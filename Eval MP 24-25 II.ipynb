{
  "cells": [
    {
      "cell_type": "code",
      "execution_count": 1,
      "metadata": {
        "id": "5IhJWcNRsWC-"
      },
      "outputs": [
        {
          "ename": "ModuleNotFoundError",
          "evalue": "No module named 'submit'",
          "output_type": "error",
          "traceback": [
            "\u001b[1;31m---------------------------------------------------------------------------\u001b[0m",
            "\u001b[1;31mModuleNotFoundError\u001b[0m                       Traceback (most recent call last)",
            "Cell \u001b[1;32mIn[1], line 2\u001b[0m\n\u001b[0;32m      1\u001b[0m \u001b[38;5;28;01mimport\u001b[39;00m \u001b[38;5;21;01mnumpy\u001b[39;00m \u001b[38;5;28;01mas\u001b[39;00m \u001b[38;5;21;01mnp\u001b[39;00m\n\u001b[1;32m----> 2\u001b[0m \u001b[38;5;28;01mfrom\u001b[39;00m \u001b[38;5;21;01msubmit\u001b[39;00m \u001b[38;5;28;01mimport\u001b[39;00m my_map\n\u001b[0;32m      3\u001b[0m \u001b[38;5;28;01mfrom\u001b[39;00m \u001b[38;5;21;01msubmit\u001b[39;00m \u001b[38;5;28;01mimport\u001b[39;00m my_fit\n\u001b[0;32m      4\u001b[0m \u001b[38;5;28;01mfrom\u001b[39;00m \u001b[38;5;21;01msubmit\u001b[39;00m \u001b[38;5;28;01mimport\u001b[39;00m my_decode\n",
            "\u001b[1;31mModuleNotFoundError\u001b[0m: No module named 'submit'"
          ]
        }
      ],
      "source": [
        "import numpy as np\n",
        "from submit import my_map\n",
        "from submit import my_fit\n",
        "from submit import my_decode\n",
        "import time as tm"
      ]
    },
    {
      "cell_type": "code",
      "execution_count": 2,
      "metadata": {
        "id": "LyDzwfPYsb9d"
      },
      "outputs": [],
      "source": [
        "Z_trn = np.loadtxt( \"public_trn.txt\" )\n",
        "Z_tst = np.loadtxt( \"public_tst.txt\" )\n",
        "\n",
        "n_trials = 5\n",
        "\n",
        "d_size = 0\n",
        "t_train = 0\n",
        "t_map = 0\n",
        "acc = 0"
      ]
    },
    {
      "cell_type": "code",
      "execution_count": 3,
      "metadata": {
        "colab": {
          "base_uri": "https://localhost:8080/"
        },
        "id": "k7v5ghgDsnTR",
        "outputId": "5a3c1a9f-474e-41ee-8106-26de274680bf"
      },
      "outputs": [
        {
          "name": "stdout",
          "output_type": "stream",
          "text": [
            "0  =  1.0\n",
            "1  =  1.0\n",
            "2  =  1.0\n",
            "3  =  1.0\n",
            "4  =  1.0\n"
          ]
        }
      ],
      "source": [
        "for t in range( n_trials ):\n",
        "  tic = tm.perf_counter()\n",
        "  w, b = my_fit( Z_trn[:, :-1], Z_trn[:,-1] )\n",
        "  toc = tm.perf_counter()\n",
        "\n",
        "  t_train += toc - tic\n",
        "  w = w.reshape( -1 )\n",
        "\n",
        "  d_size += w.shape[0]\n",
        "\n",
        "  tic = tm.perf_counter()\n",
        "  feat = my_map( Z_tst[:, :-1] )\n",
        "  toc = tm.perf_counter()\n",
        "  t_map += toc - tic\n",
        "\n",
        "  scores = feat.dot( w ) + b\n",
        "\n",
        "  pred = np.zeros_like( scores )\n",
        "  pred[ scores > 0 ] = 1\n",
        "  print(t,\" = \", np.average( Z_tst[ :, -1 ] == pred ))\n",
        "  acc += np.average( Z_tst[ :, -1 ] == pred )"
      ]
    },
    {
      "cell_type": "code",
      "execution_count": 4,
      "metadata": {
        "id": "QLjzaNP8tDw4"
      },
      "outputs": [],
      "source": [
        "d_size /= n_trials\n",
        "t_train /= n_trials\n",
        "t_map /= n_trials\n",
        "acc /= n_trials"
      ]
    },
    {
      "cell_type": "code",
      "execution_count": 5,
      "metadata": {
        "colab": {
          "base_uri": "https://localhost:8080/"
        },
        "id": "umFXGIJsGbMB",
        "outputId": "b0f84da1-382b-4664-df47-c5adb737856e"
      },
      "outputs": [
        {
          "name": "stdout",
          "output_type": "stream",
          "text": [
            "Average Accuracy over 5 trials: 100.00%\n",
            "Average Model Size: 255.0\n",
            "Average Training Time: 0.1373 seconds\n",
            "Average Mapping Time: 0.0107 seconds\n"
          ]
        }
      ],
      "source": [
        "print(f\"Average Accuracy over {n_trials} trials: {acc * 100:.2f}%\")\n",
        "print(f\"Average Model Size: {d_size}\")\n",
        "print(f\"Average Training Time: {t_train:.4f} seconds\")\n",
        "print(f\"Average Mapping Time: {t_map:.4f} seconds\")"
      ]
    },
    {
      "cell_type": "code",
      "execution_count": 10,
      "metadata": {
        "id": "b0SWo4TYuUKc"
      },
      "outputs": [],
      "source": [
        "def get_model( p, q, r, s ):\n",
        "  p = np.maximum( p, 0 )\n",
        "  q = np.maximum( q, 0 )\n",
        "  r = np.maximum( r, 0 )\n",
        "  s = np.maximum( s, 0 )\n",
        "  d = p - q\n",
        "  c = r - s\n",
        "  alpha = ( d + c ) / 2\n",
        "  beta = ( d - c ) / 2\n",
        "  w = np.zeros( ( len( alpha ) + 1, )  )\n",
        "  w[:-1] += alpha\n",
        "  w[1:] += beta\n",
        "  return w"
      ]
    },
    {
      "cell_type": "code",
      "execution_count": 11,
      "metadata": {
        "id": "iZs4lZMntVcU"
      },
      "outputs": [],
      "source": [
        "W = np.loadtxt( \"public_mod.txt\" )\n",
        "( n_models, dims ) = W.shape\n",
        "t_decode = 0\n",
        "m_dist = 0\n",
        "for t in range( n_trials ):\n",
        "  for itr in range( n_models ):\n",
        "    w = W[ itr, : ]\n",
        "    tic = tm.perf_counter()\n",
        "    p_hat, q_hat, r_hat, s_hat = my_decode( w )\n",
        "    toc = tm.perf_counter()\n",
        "    t_decode += toc - tic\n",
        "    w_hat = get_model( p_hat, q_hat, r_hat, s_hat )\n",
        "    m_dist += np.linalg.norm( w - w_hat )"
      ]
    },
    {
      "cell_type": "code",
      "execution_count": 12,
      "metadata": {
        "id": "jS_GV0TIvaM2"
      },
      "outputs": [],
      "source": [
        "t_decode /= ( n_trials * n_models )\n",
        "m_dist /= ( n_trials * n_models )"
      ]
    },
    {
      "cell_type": "code",
      "execution_count": 13,
      "metadata": {
        "colab": {
          "base_uri": "https://localhost:8080/"
        },
        "id": "Bm2PaIh5tGzq",
        "outputId": "26e7b598-8966-47f6-8148-9ea7fe222c16"
      },
      "outputs": [
        {
          "name": "stdout",
          "output_type": "stream",
          "text": [
            "255.0,0.1373432410000021,0.010705083600009857,0.0,0.0005727078000012397,4.536370440084288e-16\n"
          ]
        }
      ],
      "source": [
        "print( f\"{d_size},{t_train},{t_map},{1 - acc},{t_decode},{m_dist}\" )"
      ]
    },
    {
      "cell_type": "code",
      "execution_count": 18,
      "metadata": {
        "colab": {
          "base_uri": "https://localhost:8080/",
          "height": 206
        },
        "id": "L5VNVNmVLREM",
        "outputId": "fc140f97-35f7-4980-e75b-9ca3123fbe1f"
      },
      "outputs": [
        {
          "name": "stdout",
          "output_type": "stream",
          "text": [
            "Starting, 1\n",
            "Starting, 2\n",
            "Starting, 3\n",
            "Starting, 4\n",
            "Starting, 5\n",
            "Starting, 6\n",
            "Starting, 7\n"
          ]
        },
        {
          "data": {
            "text/latex": [
              "$\\displaystyle c_{7} \\left(c_{6} \\left(c_{5} \\left(c_{4} \\left(c_{3} \\left(c_{2} \\left(c_{1} \\left(c_{0} r_{0} - q_{0} \\left(c_{0} - 1\\right) + s_{1}\\right) + r_{2} - \\left(c_{1} - 1\\right) \\left(c_{0} s_{0} - p_{0} \\left(c_{0} - 1\\right) + p_{1}\\right)\\right) + s_{3} - \\left(c_{2} - 1\\right) \\left(c_{1} \\left(c_{0} s_{0} - p_{0} \\left(c_{0} - 1\\right) + r_{1}\\right) + q_{2} - \\left(c_{1} - 1\\right) \\left(c_{0} r_{0} - q_{0} \\left(c_{0} - 1\\right) + q_{1}\\right)\\right)\\right) + r_{4} - \\left(c_{3} - 1\\right) \\left(c_{2} \\left(c_{1} \\left(c_{0} s_{0} - p_{0} \\left(c_{0} - 1\\right) + r_{1}\\right) + s_{2} - \\left(c_{1} - 1\\right) \\left(c_{0} r_{0} - q_{0} \\left(c_{0} - 1\\right) + q_{1}\\right)\\right) + p_{3} - \\left(c_{2} - 1\\right) \\left(c_{1} \\left(c_{0} r_{0} - q_{0} \\left(c_{0} - 1\\right) + s_{1}\\right) + p_{2} - \\left(c_{1} - 1\\right) \\left(c_{0} s_{0} - p_{0} \\left(c_{0} - 1\\right) + p_{1}\\right)\\right)\\right)\\right) + s_{5} - \\left(c_{4} - 1\\right) \\left(c_{3} \\left(c_{2} \\left(c_{1} \\left(c_{0} s_{0} - p_{0} \\left(c_{0} - 1\\right) + r_{1}\\right) + s_{2} - \\left(c_{1} - 1\\right) \\left(c_{0} r_{0} - q_{0} \\left(c_{0} - 1\\right) + q_{1}\\right)\\right) + r_{3} - \\left(c_{2} - 1\\right) \\left(c_{1} \\left(c_{0} r_{0} - q_{0} \\left(c_{0} - 1\\right) + s_{1}\\right) + p_{2} - \\left(c_{1} - 1\\right) \\left(c_{0} s_{0} - p_{0} \\left(c_{0} - 1\\right) + p_{1}\\right)\\right)\\right) + q_{4} - \\left(c_{3} - 1\\right) \\left(c_{2} \\left(c_{1} \\left(c_{0} r_{0} - q_{0} \\left(c_{0} - 1\\right) + s_{1}\\right) + r_{2} - \\left(c_{1} - 1\\right) \\left(c_{0} s_{0} - p_{0} \\left(c_{0} - 1\\right) + p_{1}\\right)\\right) + q_{3} - \\left(c_{2} - 1\\right) \\left(c_{1} \\left(c_{0} s_{0} - p_{0} \\left(c_{0} - 1\\right) + r_{1}\\right) + q_{2} - \\left(c_{1} - 1\\right) \\left(c_{0} r_{0} - q_{0} \\left(c_{0} - 1\\right) + q_{1}\\right)\\right)\\right)\\right)\\right) + r_{6} - \\left(c_{5} - 1\\right) \\left(c_{4} \\left(c_{3} \\left(c_{2} \\left(c_{1} \\left(c_{0} s_{0} - p_{0} \\left(c_{0} - 1\\right) + r_{1}\\right) + s_{2} - \\left(c_{1} - 1\\right) \\left(c_{0} r_{0} - q_{0} \\left(c_{0} - 1\\right) + q_{1}\\right)\\right) + r_{3} - \\left(c_{2} - 1\\right) \\left(c_{1} \\left(c_{0} r_{0} - q_{0} \\left(c_{0} - 1\\right) + s_{1}\\right) + p_{2} - \\left(c_{1} - 1\\right) \\left(c_{0} s_{0} - p_{0} \\left(c_{0} - 1\\right) + p_{1}\\right)\\right)\\right) + s_{4} - \\left(c_{3} - 1\\right) \\left(c_{2} \\left(c_{1} \\left(c_{0} r_{0} - q_{0} \\left(c_{0} - 1\\right) + s_{1}\\right) + r_{2} - \\left(c_{1} - 1\\right) \\left(c_{0} s_{0} - p_{0} \\left(c_{0} - 1\\right) + p_{1}\\right)\\right) + q_{3} - \\left(c_{2} - 1\\right) \\left(c_{1} \\left(c_{0} s_{0} - p_{0} \\left(c_{0} - 1\\right) + r_{1}\\right) + q_{2} - \\left(c_{1} - 1\\right) \\left(c_{0} r_{0} - q_{0} \\left(c_{0} - 1\\right) + q_{1}\\right)\\right)\\right)\\right) + p_{5} - \\left(c_{4} - 1\\right) \\left(c_{3} \\left(c_{2} \\left(c_{1} \\left(c_{0} r_{0} - q_{0} \\left(c_{0} - 1\\right) + s_{1}\\right) + r_{2} - \\left(c_{1} - 1\\right) \\left(c_{0} s_{0} - p_{0} \\left(c_{0} - 1\\right) + p_{1}\\right)\\right) + s_{3} - \\left(c_{2} - 1\\right) \\left(c_{1} \\left(c_{0} s_{0} - p_{0} \\left(c_{0} - 1\\right) + r_{1}\\right) + q_{2} - \\left(c_{1} - 1\\right) \\left(c_{0} r_{0} - q_{0} \\left(c_{0} - 1\\right) + q_{1}\\right)\\right)\\right) + p_{4} - \\left(c_{3} - 1\\right) \\left(c_{2} \\left(c_{1} \\left(c_{0} s_{0} - p_{0} \\left(c_{0} - 1\\right) + r_{1}\\right) + s_{2} - \\left(c_{1} - 1\\right) \\left(c_{0} r_{0} - q_{0} \\left(c_{0} - 1\\right) + q_{1}\\right)\\right) + p_{3} - \\left(c_{2} - 1\\right) \\left(c_{1} \\left(c_{0} r_{0} - q_{0} \\left(c_{0} - 1\\right) + s_{1}\\right) + p_{2} - \\left(c_{1} - 1\\right) \\left(c_{0} s_{0} - p_{0} \\left(c_{0} - 1\\right) + p_{1}\\right)\\right)\\right)\\right)\\right)\\right) + s_{7} - \\left(c_{6} - 1\\right) \\left(c_{5} \\left(c_{4} \\left(c_{3} \\left(c_{2} \\left(c_{1} \\left(c_{0} s_{0} - p_{0} \\left(c_{0} - 1\\right) + r_{1}\\right) + s_{2} - \\left(c_{1} - 1\\right) \\left(c_{0} r_{0} - q_{0} \\left(c_{0} - 1\\right) + q_{1}\\right)\\right) + r_{3} - \\left(c_{2} - 1\\right) \\left(c_{1} \\left(c_{0} r_{0} - q_{0} \\left(c_{0} - 1\\right) + s_{1}\\right) + p_{2} - \\left(c_{1} - 1\\right) \\left(c_{0} s_{0} - p_{0} \\left(c_{0} - 1\\right) + p_{1}\\right)\\right)\\right) + s_{4} - \\left(c_{3} - 1\\right) \\left(c_{2} \\left(c_{1} \\left(c_{0} r_{0} - q_{0} \\left(c_{0} - 1\\right) + s_{1}\\right) + r_{2} - \\left(c_{1} - 1\\right) \\left(c_{0} s_{0} - p_{0} \\left(c_{0} - 1\\right) + p_{1}\\right)\\right) + q_{3} - \\left(c_{2} - 1\\right) \\left(c_{1} \\left(c_{0} s_{0} - p_{0} \\left(c_{0} - 1\\right) + r_{1}\\right) + q_{2} - \\left(c_{1} - 1\\right) \\left(c_{0} r_{0} - q_{0} \\left(c_{0} - 1\\right) + q_{1}\\right)\\right)\\right)\\right) + r_{5} - \\left(c_{4} - 1\\right) \\left(c_{3} \\left(c_{2} \\left(c_{1} \\left(c_{0} r_{0} - q_{0} \\left(c_{0} - 1\\right) + s_{1}\\right) + r_{2} - \\left(c_{1} - 1\\right) \\left(c_{0} s_{0} - p_{0} \\left(c_{0} - 1\\right) + p_{1}\\right)\\right) + s_{3} - \\left(c_{2} - 1\\right) \\left(c_{1} \\left(c_{0} s_{0} - p_{0} \\left(c_{0} - 1\\right) + r_{1}\\right) + q_{2} - \\left(c_{1} - 1\\right) \\left(c_{0} r_{0} - q_{0} \\left(c_{0} - 1\\right) + q_{1}\\right)\\right)\\right) + p_{4} - \\left(c_{3} - 1\\right) \\left(c_{2} \\left(c_{1} \\left(c_{0} s_{0} - p_{0} \\left(c_{0} - 1\\right) + r_{1}\\right) + s_{2} - \\left(c_{1} - 1\\right) \\left(c_{0} r_{0} - q_{0} \\left(c_{0} - 1\\right) + q_{1}\\right)\\right) + p_{3} - \\left(c_{2} - 1\\right) \\left(c_{1} \\left(c_{0} r_{0} - q_{0} \\left(c_{0} - 1\\right) + s_{1}\\right) + p_{2} - \\left(c_{1} - 1\\right) \\left(c_{0} s_{0} - p_{0} \\left(c_{0} - 1\\right) + p_{1}\\right)\\right)\\right)\\right)\\right) + q_{6} - \\left(c_{5} - 1\\right) \\left(c_{4} \\left(c_{3} \\left(c_{2} \\left(c_{1} \\left(c_{0} r_{0} - q_{0} \\left(c_{0} - 1\\right) + s_{1}\\right) + r_{2} - \\left(c_{1} - 1\\right) \\left(c_{0} s_{0} - p_{0} \\left(c_{0} - 1\\right) + p_{1}\\right)\\right) + s_{3} - \\left(c_{2} - 1\\right) \\left(c_{1} \\left(c_{0} s_{0} - p_{0} \\left(c_{0} - 1\\right) + r_{1}\\right) + q_{2} - \\left(c_{1} - 1\\right) \\left(c_{0} r_{0} - q_{0} \\left(c_{0} - 1\\right) + q_{1}\\right)\\right)\\right) + r_{4} - \\left(c_{3} - 1\\right) \\left(c_{2} \\left(c_{1} \\left(c_{0} s_{0} - p_{0} \\left(c_{0} - 1\\right) + r_{1}\\right) + s_{2} - \\left(c_{1} - 1\\right) \\left(c_{0} r_{0} - q_{0} \\left(c_{0} - 1\\right) + q_{1}\\right)\\right) + p_{3} - \\left(c_{2} - 1\\right) \\left(c_{1} \\left(c_{0} r_{0} - q_{0} \\left(c_{0} - 1\\right) + s_{1}\\right) + p_{2} - \\left(c_{1} - 1\\right) \\left(c_{0} s_{0} - p_{0} \\left(c_{0} - 1\\right) + p_{1}\\right)\\right)\\right)\\right) + q_{5} - \\left(c_{4} - 1\\right) \\left(c_{3} \\left(c_{2} \\left(c_{1} \\left(c_{0} s_{0} - p_{0} \\left(c_{0} - 1\\right) + r_{1}\\right) + s_{2} - \\left(c_{1} - 1\\right) \\left(c_{0} r_{0} - q_{0} \\left(c_{0} - 1\\right) + q_{1}\\right)\\right) + r_{3} - \\left(c_{2} - 1\\right) \\left(c_{1} \\left(c_{0} r_{0} - q_{0} \\left(c_{0} - 1\\right) + s_{1}\\right) + p_{2} - \\left(c_{1} - 1\\right) \\left(c_{0} s_{0} - p_{0} \\left(c_{0} - 1\\right) + p_{1}\\right)\\right)\\right) + q_{4} - \\left(c_{3} - 1\\right) \\left(c_{2} \\left(c_{1} \\left(c_{0} r_{0} - q_{0} \\left(c_{0} - 1\\right) + s_{1}\\right) + r_{2} - \\left(c_{1} - 1\\right) \\left(c_{0} s_{0} - p_{0} \\left(c_{0} - 1\\right) + p_{1}\\right)\\right) + q_{3} - \\left(c_{2} - 1\\right) \\left(c_{1} \\left(c_{0} s_{0} - p_{0} \\left(c_{0} - 1\\right) + r_{1}\\right) + q_{2} - \\left(c_{1} - 1\\right) \\left(c_{0} r_{0} - q_{0} \\left(c_{0} - 1\\right) + q_{1}\\right)\\right)\\right)\\right)\\right)\\right)\\right) - \\left(c_{7} - 1\\right) \\left(c_{6} \\left(c_{5} \\left(c_{4} \\left(c_{3} \\left(c_{2} \\left(c_{1} \\left(c_{0} s_{0} - p_{0} \\left(c_{0} - 1\\right) + r_{1}\\right) + s_{2} - \\left(c_{1} - 1\\right) \\left(c_{0} r_{0} - q_{0} \\left(c_{0} - 1\\right) + q_{1}\\right)\\right) + r_{3} - \\left(c_{2} - 1\\right) \\left(c_{1} \\left(c_{0} r_{0} - q_{0} \\left(c_{0} - 1\\right) + s_{1}\\right) + p_{2} - \\left(c_{1} - 1\\right) \\left(c_{0} s_{0} - p_{0} \\left(c_{0} - 1\\right) + p_{1}\\right)\\right)\\right) + s_{4} - \\left(c_{3} - 1\\right) \\left(c_{2} \\left(c_{1} \\left(c_{0} r_{0} - q_{0} \\left(c_{0} - 1\\right) + s_{1}\\right) + r_{2} - \\left(c_{1} - 1\\right) \\left(c_{0} s_{0} - p_{0} \\left(c_{0} - 1\\right) + p_{1}\\right)\\right) + q_{3} - \\left(c_{2} - 1\\right) \\left(c_{1} \\left(c_{0} s_{0} - p_{0} \\left(c_{0} - 1\\right) + r_{1}\\right) + q_{2} - \\left(c_{1} - 1\\right) \\left(c_{0} r_{0} - q_{0} \\left(c_{0} - 1\\right) + q_{1}\\right)\\right)\\right)\\right) + r_{5} - \\left(c_{4} - 1\\right) \\left(c_{3} \\left(c_{2} \\left(c_{1} \\left(c_{0} r_{0} - q_{0} \\left(c_{0} - 1\\right) + s_{1}\\right) + r_{2} - \\left(c_{1} - 1\\right) \\left(c_{0} s_{0} - p_{0} \\left(c_{0} - 1\\right) + p_{1}\\right)\\right) + s_{3} - \\left(c_{2} - 1\\right) \\left(c_{1} \\left(c_{0} s_{0} - p_{0} \\left(c_{0} - 1\\right) + r_{1}\\right) + q_{2} - \\left(c_{1} - 1\\right) \\left(c_{0} r_{0} - q_{0} \\left(c_{0} - 1\\right) + q_{1}\\right)\\right)\\right) + p_{4} - \\left(c_{3} - 1\\right) \\left(c_{2} \\left(c_{1} \\left(c_{0} s_{0} - p_{0} \\left(c_{0} - 1\\right) + r_{1}\\right) + s_{2} - \\left(c_{1} - 1\\right) \\left(c_{0} r_{0} - q_{0} \\left(c_{0} - 1\\right) + q_{1}\\right)\\right) + p_{3} - \\left(c_{2} - 1\\right) \\left(c_{1} \\left(c_{0} r_{0} - q_{0} \\left(c_{0} - 1\\right) + s_{1}\\right) + p_{2} - \\left(c_{1} - 1\\right) \\left(c_{0} s_{0} - p_{0} \\left(c_{0} - 1\\right) + p_{1}\\right)\\right)\\right)\\right)\\right) + s_{6} - \\left(c_{5} - 1\\right) \\left(c_{4} \\left(c_{3} \\left(c_{2} \\left(c_{1} \\left(c_{0} r_{0} - q_{0} \\left(c_{0} - 1\\right) + s_{1}\\right) + r_{2} - \\left(c_{1} - 1\\right) \\left(c_{0} s_{0} - p_{0} \\left(c_{0} - 1\\right) + p_{1}\\right)\\right) + s_{3} - \\left(c_{2} - 1\\right) \\left(c_{1} \\left(c_{0} s_{0} - p_{0} \\left(c_{0} - 1\\right) + r_{1}\\right) + q_{2} - \\left(c_{1} - 1\\right) \\left(c_{0} r_{0} - q_{0} \\left(c_{0} - 1\\right) + q_{1}\\right)\\right)\\right) + r_{4} - \\left(c_{3} - 1\\right) \\left(c_{2} \\left(c_{1} \\left(c_{0} s_{0} - p_{0} \\left(c_{0} - 1\\right) + r_{1}\\right) + s_{2} - \\left(c_{1} - 1\\right) \\left(c_{0} r_{0} - q_{0} \\left(c_{0} - 1\\right) + q_{1}\\right)\\right) + p_{3} - \\left(c_{2} - 1\\right) \\left(c_{1} \\left(c_{0} r_{0} - q_{0} \\left(c_{0} - 1\\right) + s_{1}\\right) + p_{2} - \\left(c_{1} - 1\\right) \\left(c_{0} s_{0} - p_{0} \\left(c_{0} - 1\\right) + p_{1}\\right)\\right)\\right)\\right) + q_{5} - \\left(c_{4} - 1\\right) \\left(c_{3} \\left(c_{2} \\left(c_{1} \\left(c_{0} s_{0} - p_{0} \\left(c_{0} - 1\\right) + r_{1}\\right) + s_{2} - \\left(c_{1} - 1\\right) \\left(c_{0} r_{0} - q_{0} \\left(c_{0} - 1\\right) + q_{1}\\right)\\right) + r_{3} - \\left(c_{2} - 1\\right) \\left(c_{1} \\left(c_{0} r_{0} - q_{0} \\left(c_{0} - 1\\right) + s_{1}\\right) + p_{2} - \\left(c_{1} - 1\\right) \\left(c_{0} s_{0} - p_{0} \\left(c_{0} - 1\\right) + p_{1}\\right)\\right)\\right) + q_{4} - \\left(c_{3} - 1\\right) \\left(c_{2} \\left(c_{1} \\left(c_{0} r_{0} - q_{0} \\left(c_{0} - 1\\right) + s_{1}\\right) + r_{2} - \\left(c_{1} - 1\\right) \\left(c_{0} s_{0} - p_{0} \\left(c_{0} - 1\\right) + p_{1}\\right)\\right) + q_{3} - \\left(c_{2} - 1\\right) \\left(c_{1} \\left(c_{0} s_{0} - p_{0} \\left(c_{0} - 1\\right) + r_{1}\\right) + q_{2} - \\left(c_{1} - 1\\right) \\left(c_{0} r_{0} - q_{0} \\left(c_{0} - 1\\right) + q_{1}\\right)\\right)\\right)\\right)\\right)\\right) + p_{7} - \\left(c_{6} - 1\\right) \\left(c_{5} \\left(c_{4} \\left(c_{3} \\left(c_{2} \\left(c_{1} \\left(c_{0} r_{0} - q_{0} \\left(c_{0} - 1\\right) + s_{1}\\right) + r_{2} - \\left(c_{1} - 1\\right) \\left(c_{0} s_{0} - p_{0} \\left(c_{0} - 1\\right) + p_{1}\\right)\\right) + s_{3} - \\left(c_{2} - 1\\right) \\left(c_{1} \\left(c_{0} s_{0} - p_{0} \\left(c_{0} - 1\\right) + r_{1}\\right) + q_{2} - \\left(c_{1} - 1\\right) \\left(c_{0} r_{0} - q_{0} \\left(c_{0} - 1\\right) + q_{1}\\right)\\right)\\right) + r_{4} - \\left(c_{3} - 1\\right) \\left(c_{2} \\left(c_{1} \\left(c_{0} s_{0} - p_{0} \\left(c_{0} - 1\\right) + r_{1}\\right) + s_{2} - \\left(c_{1} - 1\\right) \\left(c_{0} r_{0} - q_{0} \\left(c_{0} - 1\\right) + q_{1}\\right)\\right) + p_{3} - \\left(c_{2} - 1\\right) \\left(c_{1} \\left(c_{0} r_{0} - q_{0} \\left(c_{0} - 1\\right) + s_{1}\\right) + p_{2} - \\left(c_{1} - 1\\right) \\left(c_{0} s_{0} - p_{0} \\left(c_{0} - 1\\right) + p_{1}\\right)\\right)\\right)\\right) + s_{5} - \\left(c_{4} - 1\\right) \\left(c_{3} \\left(c_{2} \\left(c_{1} \\left(c_{0} s_{0} - p_{0} \\left(c_{0} - 1\\right) + r_{1}\\right) + s_{2} - \\left(c_{1} - 1\\right) \\left(c_{0} r_{0} - q_{0} \\left(c_{0} - 1\\right) + q_{1}\\right)\\right) + r_{3} - \\left(c_{2} - 1\\right) \\left(c_{1} \\left(c_{0} r_{0} - q_{0} \\left(c_{0} - 1\\right) + s_{1}\\right) + p_{2} - \\left(c_{1} - 1\\right) \\left(c_{0} s_{0} - p_{0} \\left(c_{0} - 1\\right) + p_{1}\\right)\\right)\\right) + q_{4} - \\left(c_{3} - 1\\right) \\left(c_{2} \\left(c_{1} \\left(c_{0} r_{0} - q_{0} \\left(c_{0} - 1\\right) + s_{1}\\right) + r_{2} - \\left(c_{1} - 1\\right) \\left(c_{0} s_{0} - p_{0} \\left(c_{0} - 1\\right) + p_{1}\\right)\\right) + q_{3} - \\left(c_{2} - 1\\right) \\left(c_{1} \\left(c_{0} s_{0} - p_{0} \\left(c_{0} - 1\\right) + r_{1}\\right) + q_{2} - \\left(c_{1} - 1\\right) \\left(c_{0} r_{0} - q_{0} \\left(c_{0} - 1\\right) + q_{1}\\right)\\right)\\right)\\right)\\right) + p_{6} - \\left(c_{5} - 1\\right) \\left(c_{4} \\left(c_{3} \\left(c_{2} \\left(c_{1} \\left(c_{0} s_{0} - p_{0} \\left(c_{0} - 1\\right) + r_{1}\\right) + s_{2} - \\left(c_{1} - 1\\right) \\left(c_{0} r_{0} - q_{0} \\left(c_{0} - 1\\right) + q_{1}\\right)\\right) + r_{3} - \\left(c_{2} - 1\\right) \\left(c_{1} \\left(c_{0} r_{0} - q_{0} \\left(c_{0} - 1\\right) + s_{1}\\right) + p_{2} - \\left(c_{1} - 1\\right) \\left(c_{0} s_{0} - p_{0} \\left(c_{0} - 1\\right) + p_{1}\\right)\\right)\\right) + s_{4} - \\left(c_{3} - 1\\right) \\left(c_{2} \\left(c_{1} \\left(c_{0} r_{0} - q_{0} \\left(c_{0} - 1\\right) + s_{1}\\right) + r_{2} - \\left(c_{1} - 1\\right) \\left(c_{0} s_{0} - p_{0} \\left(c_{0} - 1\\right) + p_{1}\\right)\\right) + q_{3} - \\left(c_{2} - 1\\right) \\left(c_{1} \\left(c_{0} s_{0} - p_{0} \\left(c_{0} - 1\\right) + r_{1}\\right) + q_{2} - \\left(c_{1} - 1\\right) \\left(c_{0} r_{0} - q_{0} \\left(c_{0} - 1\\right) + q_{1}\\right)\\right)\\right)\\right) + p_{5} - \\left(c_{4} - 1\\right) \\left(c_{3} \\left(c_{2} \\left(c_{1} \\left(c_{0} r_{0} - q_{0} \\left(c_{0} - 1\\right) + s_{1}\\right) + r_{2} - \\left(c_{1} - 1\\right) \\left(c_{0} s_{0} - p_{0} \\left(c_{0} - 1\\right) + p_{1}\\right)\\right) + s_{3} - \\left(c_{2} - 1\\right) \\left(c_{1} \\left(c_{0} s_{0} - p_{0} \\left(c_{0} - 1\\right) + r_{1}\\right) + q_{2} - \\left(c_{1} - 1\\right) \\left(c_{0} r_{0} - q_{0} \\left(c_{0} - 1\\right) + q_{1}\\right)\\right)\\right) + p_{4} - \\left(c_{3} - 1\\right) \\left(c_{2} \\left(c_{1} \\left(c_{0} s_{0} - p_{0} \\left(c_{0} - 1\\right) + r_{1}\\right) + s_{2} - \\left(c_{1} - 1\\right) \\left(c_{0} r_{0} - q_{0} \\left(c_{0} - 1\\right) + q_{1}\\right)\\right) + p_{3} - \\left(c_{2} - 1\\right) \\left(c_{1} \\left(c_{0} r_{0} - q_{0} \\left(c_{0} - 1\\right) + s_{1}\\right) + p_{2} - \\left(c_{1} - 1\\right) \\left(c_{0} s_{0} - p_{0} \\left(c_{0} - 1\\right) + p_{1}\\right)\\right)\\right)\\right)\\right)\\right)\\right)$"
            ],
            "text/plain": [
              "c7*(c6*(c5*(c4*(c3*(c2*(c1*(c0*r0 - q0*(c0 - 1) + s1) + r2 - (c1 - 1)*(c0*s0 - p0*(c0 - 1) + p1)) + s3 - (c2 - 1)*(c1*(c0*s0 - p0*(c0 - 1) + r1) + q2 - (c1 - 1)*(c0*r0 - q0*(c0 - 1) + q1))) + r4 - (c3 - 1)*(c2*(c1*(c0*s0 - p0*(c0 - 1) + r1) + s2 - (c1 - 1)*(c0*r0 - q0*(c0 - 1) + q1)) + p3 - (c2 - 1)*(c1*(c0*r0 - q0*(c0 - 1) + s1) + p2 - (c1 - 1)*(c0*s0 - p0*(c0 - 1) + p1)))) + s5 - (c4 - 1)*(c3*(c2*(c1*(c0*s0 - p0*(c0 - 1) + r1) + s2 - (c1 - 1)*(c0*r0 - q0*(c0 - 1) + q1)) + r3 - (c2 - 1)*(c1*(c0*r0 - q0*(c0 - 1) + s1) + p2 - (c1 - 1)*(c0*s0 - p0*(c0 - 1) + p1))) + q4 - (c3 - 1)*(c2*(c1*(c0*r0 - q0*(c0 - 1) + s1) + r2 - (c1 - 1)*(c0*s0 - p0*(c0 - 1) + p1)) + q3 - (c2 - 1)*(c1*(c0*s0 - p0*(c0 - 1) + r1) + q2 - (c1 - 1)*(c0*r0 - q0*(c0 - 1) + q1))))) + r6 - (c5 - 1)*(c4*(c3*(c2*(c1*(c0*s0 - p0*(c0 - 1) + r1) + s2 - (c1 - 1)*(c0*r0 - q0*(c0 - 1) + q1)) + r3 - (c2 - 1)*(c1*(c0*r0 - q0*(c0 - 1) + s1) + p2 - (c1 - 1)*(c0*s0 - p0*(c0 - 1) + p1))) + s4 - (c3 - 1)*(c2*(c1*(c0*r0 - q0*(c0 - 1) + s1) + r2 - (c1 - 1)*(c0*s0 - p0*(c0 - 1) + p1)) + q3 - (c2 - 1)*(c1*(c0*s0 - p0*(c0 - 1) + r1) + q2 - (c1 - 1)*(c0*r0 - q0*(c0 - 1) + q1)))) + p5 - (c4 - 1)*(c3*(c2*(c1*(c0*r0 - q0*(c0 - 1) + s1) + r2 - (c1 - 1)*(c0*s0 - p0*(c0 - 1) + p1)) + s3 - (c2 - 1)*(c1*(c0*s0 - p0*(c0 - 1) + r1) + q2 - (c1 - 1)*(c0*r0 - q0*(c0 - 1) + q1))) + p4 - (c3 - 1)*(c2*(c1*(c0*s0 - p0*(c0 - 1) + r1) + s2 - (c1 - 1)*(c0*r0 - q0*(c0 - 1) + q1)) + p3 - (c2 - 1)*(c1*(c0*r0 - q0*(c0 - 1) + s1) + p2 - (c1 - 1)*(c0*s0 - p0*(c0 - 1) + p1)))))) + s7 - (c6 - 1)*(c5*(c4*(c3*(c2*(c1*(c0*s0 - p0*(c0 - 1) + r1) + s2 - (c1 - 1)*(c0*r0 - q0*(c0 - 1) + q1)) + r3 - (c2 - 1)*(c1*(c0*r0 - q0*(c0 - 1) + s1) + p2 - (c1 - 1)*(c0*s0 - p0*(c0 - 1) + p1))) + s4 - (c3 - 1)*(c2*(c1*(c0*r0 - q0*(c0 - 1) + s1) + r2 - (c1 - 1)*(c0*s0 - p0*(c0 - 1) + p1)) + q3 - (c2 - 1)*(c1*(c0*s0 - p0*(c0 - 1) + r1) + q2 - (c1 - 1)*(c0*r0 - q0*(c0 - 1) + q1)))) + r5 - (c4 - 1)*(c3*(c2*(c1*(c0*r0 - q0*(c0 - 1) + s1) + r2 - (c1 - 1)*(c0*s0 - p0*(c0 - 1) + p1)) + s3 - (c2 - 1)*(c1*(c0*s0 - p0*(c0 - 1) + r1) + q2 - (c1 - 1)*(c0*r0 - q0*(c0 - 1) + q1))) + p4 - (c3 - 1)*(c2*(c1*(c0*s0 - p0*(c0 - 1) + r1) + s2 - (c1 - 1)*(c0*r0 - q0*(c0 - 1) + q1)) + p3 - (c2 - 1)*(c1*(c0*r0 - q0*(c0 - 1) + s1) + p2 - (c1 - 1)*(c0*s0 - p0*(c0 - 1) + p1))))) + q6 - (c5 - 1)*(c4*(c3*(c2*(c1*(c0*r0 - q0*(c0 - 1) + s1) + r2 - (c1 - 1)*(c0*s0 - p0*(c0 - 1) + p1)) + s3 - (c2 - 1)*(c1*(c0*s0 - p0*(c0 - 1) + r1) + q2 - (c1 - 1)*(c0*r0 - q0*(c0 - 1) + q1))) + r4 - (c3 - 1)*(c2*(c1*(c0*s0 - p0*(c0 - 1) + r1) + s2 - (c1 - 1)*(c0*r0 - q0*(c0 - 1) + q1)) + p3 - (c2 - 1)*(c1*(c0*r0 - q0*(c0 - 1) + s1) + p2 - (c1 - 1)*(c0*s0 - p0*(c0 - 1) + p1)))) + q5 - (c4 - 1)*(c3*(c2*(c1*(c0*s0 - p0*(c0 - 1) + r1) + s2 - (c1 - 1)*(c0*r0 - q0*(c0 - 1) + q1)) + r3 - (c2 - 1)*(c1*(c0*r0 - q0*(c0 - 1) + s1) + p2 - (c1 - 1)*(c0*s0 - p0*(c0 - 1) + p1))) + q4 - (c3 - 1)*(c2*(c1*(c0*r0 - q0*(c0 - 1) + s1) + r2 - (c1 - 1)*(c0*s0 - p0*(c0 - 1) + p1)) + q3 - (c2 - 1)*(c1*(c0*s0 - p0*(c0 - 1) + r1) + q2 - (c1 - 1)*(c0*r0 - q0*(c0 - 1) + q1))))))) - (c7 - 1)*(c6*(c5*(c4*(c3*(c2*(c1*(c0*s0 - p0*(c0 - 1) + r1) + s2 - (c1 - 1)*(c0*r0 - q0*(c0 - 1) + q1)) + r3 - (c2 - 1)*(c1*(c0*r0 - q0*(c0 - 1) + s1) + p2 - (c1 - 1)*(c0*s0 - p0*(c0 - 1) + p1))) + s4 - (c3 - 1)*(c2*(c1*(c0*r0 - q0*(c0 - 1) + s1) + r2 - (c1 - 1)*(c0*s0 - p0*(c0 - 1) + p1)) + q3 - (c2 - 1)*(c1*(c0*s0 - p0*(c0 - 1) + r1) + q2 - (c1 - 1)*(c0*r0 - q0*(c0 - 1) + q1)))) + r5 - (c4 - 1)*(c3*(c2*(c1*(c0*r0 - q0*(c0 - 1) + s1) + r2 - (c1 - 1)*(c0*s0 - p0*(c0 - 1) + p1)) + s3 - (c2 - 1)*(c1*(c0*s0 - p0*(c0 - 1) + r1) + q2 - (c1 - 1)*(c0*r0 - q0*(c0 - 1) + q1))) + p4 - (c3 - 1)*(c2*(c1*(c0*s0 - p0*(c0 - 1) + r1) + s2 - (c1 - 1)*(c0*r0 - q0*(c0 - 1) + q1)) + p3 - (c2 - 1)*(c1*(c0*r0 - q0*(c0 - 1) + s1) + p2 - (c1 - 1)*(c0*s0 - p0*(c0 - 1) + p1))))) + s6 - (c5 - 1)*(c4*(c3*(c2*(c1*(c0*r0 - q0*(c0 - 1) + s1) + r2 - (c1 - 1)*(c0*s0 - p0*(c0 - 1) + p1)) + s3 - (c2 - 1)*(c1*(c0*s0 - p0*(c0 - 1) + r1) + q2 - (c1 - 1)*(c0*r0 - q0*(c0 - 1) + q1))) + r4 - (c3 - 1)*(c2*(c1*(c0*s0 - p0*(c0 - 1) + r1) + s2 - (c1 - 1)*(c0*r0 - q0*(c0 - 1) + q1)) + p3 - (c2 - 1)*(c1*(c0*r0 - q0*(c0 - 1) + s1) + p2 - (c1 - 1)*(c0*s0 - p0*(c0 - 1) + p1)))) + q5 - (c4 - 1)*(c3*(c2*(c1*(c0*s0 - p0*(c0 - 1) + r1) + s2 - (c1 - 1)*(c0*r0 - q0*(c0 - 1) + q1)) + r3 - (c2 - 1)*(c1*(c0*r0 - q0*(c0 - 1) + s1) + p2 - (c1 - 1)*(c0*s0 - p0*(c0 - 1) + p1))) + q4 - (c3 - 1)*(c2*(c1*(c0*r0 - q0*(c0 - 1) + s1) + r2 - (c1 - 1)*(c0*s0 - p0*(c0 - 1) + p1)) + q3 - (c2 - 1)*(c1*(c0*s0 - p0*(c0 - 1) + r1) + q2 - (c1 - 1)*(c0*r0 - q0*(c0 - 1) + q1)))))) + p7 - (c6 - 1)*(c5*(c4*(c3*(c2*(c1*(c0*r0 - q0*(c0 - 1) + s1) + r2 - (c1 - 1)*(c0*s0 - p0*(c0 - 1) + p1)) + s3 - (c2 - 1)*(c1*(c0*s0 - p0*(c0 - 1) + r1) + q2 - (c1 - 1)*(c0*r0 - q0*(c0 - 1) + q1))) + r4 - (c3 - 1)*(c2*(c1*(c0*s0 - p0*(c0 - 1) + r1) + s2 - (c1 - 1)*(c0*r0 - q0*(c0 - 1) + q1)) + p3 - (c2 - 1)*(c1*(c0*r0 - q0*(c0 - 1) + s1) + p2 - (c1 - 1)*(c0*s0 - p0*(c0 - 1) + p1)))) + s5 - (c4 - 1)*(c3*(c2*(c1*(c0*s0 - p0*(c0 - 1) + r1) + s2 - (c1 - 1)*(c0*r0 - q0*(c0 - 1) + q1)) + r3 - (c2 - 1)*(c1*(c0*r0 - q0*(c0 - 1) + s1) + p2 - (c1 - 1)*(c0*s0 - p0*(c0 - 1) + p1))) + q4 - (c3 - 1)*(c2*(c1*(c0*r0 - q0*(c0 - 1) + s1) + r2 - (c1 - 1)*(c0*s0 - p0*(c0 - 1) + p1)) + q3 - (c2 - 1)*(c1*(c0*s0 - p0*(c0 - 1) + r1) + q2 - (c1 - 1)*(c0*r0 - q0*(c0 - 1) + q1))))) + p6 - (c5 - 1)*(c4*(c3*(c2*(c1*(c0*s0 - p0*(c0 - 1) + r1) + s2 - (c1 - 1)*(c0*r0 - q0*(c0 - 1) + q1)) + r3 - (c2 - 1)*(c1*(c0*r0 - q0*(c0 - 1) + s1) + p2 - (c1 - 1)*(c0*s0 - p0*(c0 - 1) + p1))) + s4 - (c3 - 1)*(c2*(c1*(c0*r0 - q0*(c0 - 1) + s1) + r2 - (c1 - 1)*(c0*s0 - p0*(c0 - 1) + p1)) + q3 - (c2 - 1)*(c1*(c0*s0 - p0*(c0 - 1) + r1) + q2 - (c1 - 1)*(c0*r0 - q0*(c0 - 1) + q1)))) + p5 - (c4 - 1)*(c3*(c2*(c1*(c0*r0 - q0*(c0 - 1) + s1) + r2 - (c1 - 1)*(c0*s0 - p0*(c0 - 1) + p1)) + s3 - (c2 - 1)*(c1*(c0*s0 - p0*(c0 - 1) + r1) + q2 - (c1 - 1)*(c0*r0 - q0*(c0 - 1) + q1))) + p4 - (c3 - 1)*(c2*(c1*(c0*s0 - p0*(c0 - 1) + r1) + s2 - (c1 - 1)*(c0*r0 - q0*(c0 - 1) + q1)) + p3 - (c2 - 1)*(c1*(c0*r0 - q0*(c0 - 1) + s1) + p2 - (c1 - 1)*(c0*s0 - p0*(c0 - 1) + p1)))))))"
            ]
          },
          "execution_count": 18,
          "metadata": {},
          "output_type": "execute_result"
        }
      ],
      "source": [
        "from sympy import symbols, simplify\n",
        "\n",
        "# Define symbols\n",
        "c = symbols('c0:8')\n",
        "p = symbols('p0:8')\n",
        "q = symbols('q0:8')\n",
        "r = symbols('r0:8')\n",
        "s = symbols('s0:8')\n",
        "# p_ = symbols('p_0:8')\n",
        "# q_ = symbols('q_0:8')\n",
        "# r_ = symbols('r_0:8')\n",
        "# s_ = symbols('s_0:8')\n",
        "\n",
        "# Initialize Delta arrays\n",
        "Delta = [0] * 8\n",
        "Delta_ = [0] * 8\n",
        "\n",
        "# Base case\n",
        "Delta[0]  = (1 - c[0]) * (p[0]) + c[0] * (s[0])\n",
        "Delta_[0] = (1 - c[0]) * (q[0]) + c[0] * (r[0])\n",
        "\n",
        "# Recurrence\n",
        "for i in range(1, 8):\n",
        "    print(\"Starting,\", i)\n",
        "    Delta[i]  = simplify((1 - c[i]) * (Delta[i-1] + p[i]) + c[i] * (Delta_[i-1] + s[i]))\n",
        "    Delta_[i] = simplify((1 - c[i]) * (Delta_[i-1] + q[i]) + c[i] * (Delta[i-1] + r[i]))\n",
        "\n",
        "# Final result\n",
        "Delta_7 = Delta[7]\n",
        "Delta_7_ = Delta_[7]\n",
        "\n",
        "# Now you can print or export Delta_7 and Delta_7_ for further analysis.\n",
        "Delta_7"
      ]
    },
    {
      "cell_type": "code",
      "execution_count": 23,
      "metadata": {
        "colab": {
          "base_uri": "https://localhost:8080/"
        },
        "id": "84Ahv5RuVMmf",
        "outputId": "643bc414-50b6-4298-8665-da15459f9b6f"
      },
      "outputs": [
        {
          "name": "stdout",
          "output_type": "stream",
          "text": [
            "Number of additive terms in Delta_2: 33\n"
          ]
        }
      ],
      "source": [
        "from sympy import expand\n",
        "\n",
        "# Fully expand Delta_7\n",
        "expanded = expand(Delta[2])\n",
        "\n",
        "# Count number of additive terms\n",
        "num_terms = len(expanded.as_ordered_terms())\n",
        "print(f\"Number of additive terms in Delta_2: {num_terms}\")"
      ]
    },
    {
      "cell_type": "code",
      "execution_count": 22,
      "metadata": {
        "colab": {
          "base_uri": "https://localhost:8080/",
          "height": 61
        },
        "id": "5HMjqhZqWX-7",
        "outputId": "03f9cf29-0b3d-4796-fc68-17aac41a3921"
      },
      "outputs": [
        {
          "data": {
            "text/latex": [
              "$\\displaystyle c_{2} \\left(c_{1} \\left(c_{0} s_{0} - p_{0} \\left(c_{0} - 1\\right) + r_{1}\\right) + s_{2} - \\left(c_{1} - 1\\right) \\left(c_{0} r_{0} - q_{0} \\left(c_{0} - 1\\right) + q_{1}\\right)\\right) - \\left(c_{2} - 1\\right) \\left(c_{1} \\left(c_{0} r_{0} - q_{0} \\left(c_{0} - 1\\right) + s_{1}\\right) + p_{2} - \\left(c_{1} - 1\\right) \\left(c_{0} s_{0} - p_{0} \\left(c_{0} - 1\\right) + p_{1}\\right)\\right)$"
            ],
            "text/plain": [
              "c2*(c1*(c0*s0 - p0*(c0 - 1) + r1) + s2 - (c1 - 1)*(c0*r0 - q0*(c0 - 1) + q1)) - (c2 - 1)*(c1*(c0*r0 - q0*(c0 - 1) + s1) + p2 - (c1 - 1)*(c0*s0 - p0*(c0 - 1) + p1))"
            ]
          },
          "execution_count": 22,
          "metadata": {},
          "output_type": "execute_result"
        }
      ],
      "source": [
        "Delta[2]"
      ]
    },
    {
      "cell_type": "code",
      "execution_count": 31,
      "metadata": {
        "colab": {
          "base_uri": "https://localhost:8080/"
        },
        "id": "Rikb4FqPXp5a",
        "outputId": "000dabb7-f2f6-4a4b-a1eb-2db26a2a948d"
      },
      "outputs": [
        {
          "data": {
            "text/plain": [
              "{p0: -2*c0*c1*c2 + c0*c1 + c0*c2 - c0 + 2*c1*c2 - c1 - c2 + 1,\n",
              " p1: c1*c2 - c1 - c2 + 1,\n",
              " p2: 1 - c2,\n",
              " s0: 2*c0*c1*c2 - c0*c1 - c0*c2 + c0,\n",
              " q0: 2*c0*c1*c2 - c0*c1 - c0*c2 - 2*c1*c2 + c1 + c2,\n",
              " s1: -c1*c2 + c1,\n",
              " q1: -c1*c2 + c2,\n",
              " s2: c2,\n",
              " r0: -2*c0*c1*c2 + c0*c1 + c0*c2,\n",
              " r1: c1*c2}"
            ]
          },
          "execution_count": 31,
          "metadata": {},
          "output_type": "execute_result"
        }
      ],
      "source": [
        "from sympy import symbols, simplify, collect, expand\n",
        "\n",
        "# Define symbols\n",
        "c = symbols('c0:8')\n",
        "p = symbols('p0:8')\n",
        "q = symbols('q0:8')\n",
        "r = symbols('r0:8')\n",
        "s = symbols('s0:8')\n",
        "\n",
        "# Initialize Delta arrays\n",
        "Delta = [0] * 8\n",
        "Delta_ = [0] * 8\n",
        "\n",
        "# Base case\n",
        "Delta[0]  = (1 - c[0]) * (p[0]) + c[0] * (s[0])\n",
        "Delta_[0] = (1 - c[0]) * (q[0]) + c[0] * (r[0])\n",
        "\n",
        "# Recurrence\n",
        "for i in range(1, 3):\n",
        "    Delta[i]  = simplify((1 - c[i]) * (Delta[i-1] + p[i]) + c[i] * (Delta_[i-1] + s[i]))\n",
        "    Delta_[i] = simplify((1 - c[i]) * (Delta_[i-1] + q[i]) + c[i] * (Delta[i-1] + r[i]))\n",
        "\n",
        "# Expand and collect like terms for Delta[7]\n",
        "Delta_7 = expand(Delta[2])\n",
        "terms_combined = collect(Delta_7, p + q + r + s, evaluate=False)\n",
        "\n",
        "terms_combined"
      ]
    },
    {
      "cell_type": "code",
      "execution_count": 33,
      "metadata": {
        "colab": {
          "base_uri": "https://localhost:8080/"
        },
        "id": "dwWfQAINYpDb",
        "outputId": "58ace6df-0e55-40d2-9490-d8b2c8d4ef81"
      },
      "outputs": [
        {
          "name": "stdout",
          "output_type": "stream",
          "text": [
            "Coefficients for Delta[7]:\n",
            "\n",
            "p0: c1*c2*c3*c4*c5*c6*c_comps0*c_comps7 + c1*c2*c3*c4*c5*c7*c_comps0*c_comps6 + c1*c2*c3*c4*c6*c7*c_comps0*c_comps5 + c1*c2*c3*c4*c_comps0*c_comps5*c_comps6*c_comps7 + c1*c2*c3*c5*c6*c7*c_comps0*c_comps4 + c1*c2*c3*c5*c_comps0*c_comps4*c_comps6*c_comps7 + c1*c2*c3*c6*c_comps0*c_comps4*c_comps5*c_comps7 + c1*c2*c3*c7*c_comps0*c_comps4*c_comps5*c_comps6 + c1*c2*c4*c5*c6*c7*c_comps0*c_comps3 + c1*c2*c4*c5*c_comps0*c_comps3*c_comps6*c_comps7 + c1*c2*c4*c6*c_comps0*c_comps3*c_comps5*c_comps7 + c1*c2*c4*c7*c_comps0*c_comps3*c_comps5*c_comps6 + c1*c2*c5*c6*c_comps0*c_comps3*c_comps4*c_comps7 + c1*c2*c5*c7*c_comps0*c_comps3*c_comps4*c_comps6 + c1*c2*c6*c7*c_comps0*c_comps3*c_comps4*c_comps5 + c1*c2*c_comps0*c_comps3*c_comps4*c_comps5*c_comps6*c_comps7 + c1*c3*c4*c5*c6*c7*c_comps0*c_comps2 + c1*c3*c4*c5*c_comps0*c_comps2*c_comps6*c_comps7 + c1*c3*c4*c6*c_comps0*c_comps2*c_comps5*c_comps7 + c1*c3*c4*c7*c_comps0*c_comps2*c_comps5*c_comps6 + c1*c3*c5*c6*c_comps0*c_comps2*c_comps4*c_comps7 + c1*c3*c5*c7*c_comps0*c_comps2*c_comps4*c_comps6 + c1*c3*c6*c7*c_comps0*c_comps2*c_comps4*c_comps5 + c1*c3*c_comps0*c_comps2*c_comps4*c_comps5*c_comps6*c_comps7 + c1*c4*c5*c6*c_comps0*c_comps2*c_comps3*c_comps7 + c1*c4*c5*c7*c_comps0*c_comps2*c_comps3*c_comps6 + c1*c4*c6*c7*c_comps0*c_comps2*c_comps3*c_comps5 + c1*c4*c_comps0*c_comps2*c_comps3*c_comps5*c_comps6*c_comps7 + c1*c5*c6*c7*c_comps0*c_comps2*c_comps3*c_comps4 + c1*c5*c_comps0*c_comps2*c_comps3*c_comps4*c_comps6*c_comps7 + c1*c6*c_comps0*c_comps2*c_comps3*c_comps4*c_comps5*c_comps7 + c1*c7*c_comps0*c_comps2*c_comps3*c_comps4*c_comps5*c_comps6 + c2*c3*c4*c5*c6*c7*c_comps0*c_comps1 + c2*c3*c4*c5*c_comps0*c_comps1*c_comps6*c_comps7 + c2*c3*c4*c6*c_comps0*c_comps1*c_comps5*c_comps7 + c2*c3*c4*c7*c_comps0*c_comps1*c_comps5*c_comps6 + c2*c3*c5*c6*c_comps0*c_comps1*c_comps4*c_comps7 + c2*c3*c5*c7*c_comps0*c_comps1*c_comps4*c_comps6 + c2*c3*c6*c7*c_comps0*c_comps1*c_comps4*c_comps5 + c2*c3*c_comps0*c_comps1*c_comps4*c_comps5*c_comps6*c_comps7 + c2*c4*c5*c6*c_comps0*c_comps1*c_comps3*c_comps7 + c2*c4*c5*c7*c_comps0*c_comps1*c_comps3*c_comps6 + c2*c4*c6*c7*c_comps0*c_comps1*c_comps3*c_comps5 + c2*c4*c_comps0*c_comps1*c_comps3*c_comps5*c_comps6*c_comps7 + c2*c5*c6*c7*c_comps0*c_comps1*c_comps3*c_comps4 + c2*c5*c_comps0*c_comps1*c_comps3*c_comps4*c_comps6*c_comps7 + c2*c6*c_comps0*c_comps1*c_comps3*c_comps4*c_comps5*c_comps7 + c2*c7*c_comps0*c_comps1*c_comps3*c_comps4*c_comps5*c_comps6 + c3*c4*c5*c6*c_comps0*c_comps1*c_comps2*c_comps7 + c3*c4*c5*c7*c_comps0*c_comps1*c_comps2*c_comps6 + c3*c4*c6*c7*c_comps0*c_comps1*c_comps2*c_comps5 + c3*c4*c_comps0*c_comps1*c_comps2*c_comps5*c_comps6*c_comps7 + c3*c5*c6*c7*c_comps0*c_comps1*c_comps2*c_comps4 + c3*c5*c_comps0*c_comps1*c_comps2*c_comps4*c_comps6*c_comps7 + c3*c6*c_comps0*c_comps1*c_comps2*c_comps4*c_comps5*c_comps7 + c3*c7*c_comps0*c_comps1*c_comps2*c_comps4*c_comps5*c_comps6 + c4*c5*c6*c7*c_comps0*c_comps1*c_comps2*c_comps3 + c4*c5*c_comps0*c_comps1*c_comps2*c_comps3*c_comps6*c_comps7 + c4*c6*c_comps0*c_comps1*c_comps2*c_comps3*c_comps5*c_comps7 + c4*c7*c_comps0*c_comps1*c_comps2*c_comps3*c_comps5*c_comps6 + c5*c6*c_comps0*c_comps1*c_comps2*c_comps3*c_comps4*c_comps7 + c5*c7*c_comps0*c_comps1*c_comps2*c_comps3*c_comps4*c_comps6 + c6*c7*c_comps0*c_comps1*c_comps2*c_comps3*c_comps4*c_comps5 + c_comps0*c_comps1*c_comps2*c_comps3*c_comps4*c_comps5*c_comps6*c_comps7\n",
            "p1: c2*c3*c4*c5*c6*c7*c_comps1 + c2*c3*c4*c5*c_comps1*c_comps6*c_comps7 + c2*c3*c4*c6*c_comps1*c_comps5*c_comps7 + c2*c3*c4*c7*c_comps1*c_comps5*c_comps6 + c2*c3*c5*c6*c_comps1*c_comps4*c_comps7 + c2*c3*c5*c7*c_comps1*c_comps4*c_comps6 + c2*c3*c6*c7*c_comps1*c_comps4*c_comps5 + c2*c3*c_comps1*c_comps4*c_comps5*c_comps6*c_comps7 + c2*c4*c5*c6*c_comps1*c_comps3*c_comps7 + c2*c4*c5*c7*c_comps1*c_comps3*c_comps6 + c2*c4*c6*c7*c_comps1*c_comps3*c_comps5 + c2*c4*c_comps1*c_comps3*c_comps5*c_comps6*c_comps7 + c2*c5*c6*c7*c_comps1*c_comps3*c_comps4 + c2*c5*c_comps1*c_comps3*c_comps4*c_comps6*c_comps7 + c2*c6*c_comps1*c_comps3*c_comps4*c_comps5*c_comps7 + c2*c7*c_comps1*c_comps3*c_comps4*c_comps5*c_comps6 + c3*c4*c5*c6*c_comps1*c_comps2*c_comps7 + c3*c4*c5*c7*c_comps1*c_comps2*c_comps6 + c3*c4*c6*c7*c_comps1*c_comps2*c_comps5 + c3*c4*c_comps1*c_comps2*c_comps5*c_comps6*c_comps7 + c3*c5*c6*c7*c_comps1*c_comps2*c_comps4 + c3*c5*c_comps1*c_comps2*c_comps4*c_comps6*c_comps7 + c3*c6*c_comps1*c_comps2*c_comps4*c_comps5*c_comps7 + c3*c7*c_comps1*c_comps2*c_comps4*c_comps5*c_comps6 + c4*c5*c6*c7*c_comps1*c_comps2*c_comps3 + c4*c5*c_comps1*c_comps2*c_comps3*c_comps6*c_comps7 + c4*c6*c_comps1*c_comps2*c_comps3*c_comps5*c_comps7 + c4*c7*c_comps1*c_comps2*c_comps3*c_comps5*c_comps6 + c5*c6*c_comps1*c_comps2*c_comps3*c_comps4*c_comps7 + c5*c7*c_comps1*c_comps2*c_comps3*c_comps4*c_comps6 + c6*c7*c_comps1*c_comps2*c_comps3*c_comps4*c_comps5 + c_comps1*c_comps2*c_comps3*c_comps4*c_comps5*c_comps6*c_comps7\n",
            "p2: c3*c4*c5*c6*c_comps2*c_comps7 + c3*c4*c5*c7*c_comps2*c_comps6 + c3*c4*c6*c7*c_comps2*c_comps5 + c3*c4*c_comps2*c_comps5*c_comps6*c_comps7 + c3*c5*c6*c7*c_comps2*c_comps4 + c3*c5*c_comps2*c_comps4*c_comps6*c_comps7 + c3*c6*c_comps2*c_comps4*c_comps5*c_comps7 + c3*c7*c_comps2*c_comps4*c_comps5*c_comps6 + c4*c5*c6*c7*c_comps2*c_comps3 + c4*c5*c_comps2*c_comps3*c_comps6*c_comps7 + c4*c6*c_comps2*c_comps3*c_comps5*c_comps7 + c4*c7*c_comps2*c_comps3*c_comps5*c_comps6 + c5*c6*c_comps2*c_comps3*c_comps4*c_comps7 + c5*c7*c_comps2*c_comps3*c_comps4*c_comps6 + c6*c7*c_comps2*c_comps3*c_comps4*c_comps5 + c_comps2*c_comps3*c_comps4*c_comps5*c_comps6*c_comps7\n",
            "p3: c4*c5*c6*c7*c_comps3 + c4*c5*c_comps3*c_comps6*c_comps7 + c4*c6*c_comps3*c_comps5*c_comps7 + c4*c7*c_comps3*c_comps5*c_comps6 + c5*c6*c_comps3*c_comps4*c_comps7 + c5*c7*c_comps3*c_comps4*c_comps6 + c6*c7*c_comps3*c_comps4*c_comps5 + c_comps3*c_comps4*c_comps5*c_comps6*c_comps7\n",
            "p4: c5*c6*c_comps4*c_comps7 + c5*c7*c_comps4*c_comps6 + c6*c7*c_comps4*c_comps5 + c_comps4*c_comps5*c_comps6*c_comps7\n",
            "p5: c6*c7*c_comps5 + c_comps5*c_comps6*c_comps7\n",
            "p6: c_comps6*c_comps7\n",
            "p7: c_comps7\n",
            "q0: c1*c2*c3*c4*c5*c6*c7*c_comps0 + c1*c2*c3*c4*c5*c_comps0*c_comps6*c_comps7 + c1*c2*c3*c4*c6*c_comps0*c_comps5*c_comps7 + c1*c2*c3*c4*c7*c_comps0*c_comps5*c_comps6 + c1*c2*c3*c5*c6*c_comps0*c_comps4*c_comps7 + c1*c2*c3*c5*c7*c_comps0*c_comps4*c_comps6 + c1*c2*c3*c6*c7*c_comps0*c_comps4*c_comps5 + c1*c2*c3*c_comps0*c_comps4*c_comps5*c_comps6*c_comps7 + c1*c2*c4*c5*c6*c_comps0*c_comps3*c_comps7 + c1*c2*c4*c5*c7*c_comps0*c_comps3*c_comps6 + c1*c2*c4*c6*c7*c_comps0*c_comps3*c_comps5 + c1*c2*c4*c_comps0*c_comps3*c_comps5*c_comps6*c_comps7 + c1*c2*c5*c6*c7*c_comps0*c_comps3*c_comps4 + c1*c2*c5*c_comps0*c_comps3*c_comps4*c_comps6*c_comps7 + c1*c2*c6*c_comps0*c_comps3*c_comps4*c_comps5*c_comps7 + c1*c2*c7*c_comps0*c_comps3*c_comps4*c_comps5*c_comps6 + c1*c3*c4*c5*c6*c_comps0*c_comps2*c_comps7 + c1*c3*c4*c5*c7*c_comps0*c_comps2*c_comps6 + c1*c3*c4*c6*c7*c_comps0*c_comps2*c_comps5 + c1*c3*c4*c_comps0*c_comps2*c_comps5*c_comps6*c_comps7 + c1*c3*c5*c6*c7*c_comps0*c_comps2*c_comps4 + c1*c3*c5*c_comps0*c_comps2*c_comps4*c_comps6*c_comps7 + c1*c3*c6*c_comps0*c_comps2*c_comps4*c_comps5*c_comps7 + c1*c3*c7*c_comps0*c_comps2*c_comps4*c_comps5*c_comps6 + c1*c4*c5*c6*c7*c_comps0*c_comps2*c_comps3 + c1*c4*c5*c_comps0*c_comps2*c_comps3*c_comps6*c_comps7 + c1*c4*c6*c_comps0*c_comps2*c_comps3*c_comps5*c_comps7 + c1*c4*c7*c_comps0*c_comps2*c_comps3*c_comps5*c_comps6 + c1*c5*c6*c_comps0*c_comps2*c_comps3*c_comps4*c_comps7 + c1*c5*c7*c_comps0*c_comps2*c_comps3*c_comps4*c_comps6 + c1*c6*c7*c_comps0*c_comps2*c_comps3*c_comps4*c_comps5 + c1*c_comps0*c_comps2*c_comps3*c_comps4*c_comps5*c_comps6*c_comps7 + c2*c3*c4*c5*c6*c_comps0*c_comps1*c_comps7 + c2*c3*c4*c5*c7*c_comps0*c_comps1*c_comps6 + c2*c3*c4*c6*c7*c_comps0*c_comps1*c_comps5 + c2*c3*c4*c_comps0*c_comps1*c_comps5*c_comps6*c_comps7 + c2*c3*c5*c6*c7*c_comps0*c_comps1*c_comps4 + c2*c3*c5*c_comps0*c_comps1*c_comps4*c_comps6*c_comps7 + c2*c3*c6*c_comps0*c_comps1*c_comps4*c_comps5*c_comps7 + c2*c3*c7*c_comps0*c_comps1*c_comps4*c_comps5*c_comps6 + c2*c4*c5*c6*c7*c_comps0*c_comps1*c_comps3 + c2*c4*c5*c_comps0*c_comps1*c_comps3*c_comps6*c_comps7 + c2*c4*c6*c_comps0*c_comps1*c_comps3*c_comps5*c_comps7 + c2*c4*c7*c_comps0*c_comps1*c_comps3*c_comps5*c_comps6 + c2*c5*c6*c_comps0*c_comps1*c_comps3*c_comps4*c_comps7 + c2*c5*c7*c_comps0*c_comps1*c_comps3*c_comps4*c_comps6 + c2*c6*c7*c_comps0*c_comps1*c_comps3*c_comps4*c_comps5 + c2*c_comps0*c_comps1*c_comps3*c_comps4*c_comps5*c_comps6*c_comps7 + c3*c4*c5*c6*c7*c_comps0*c_comps1*c_comps2 + c3*c4*c5*c_comps0*c_comps1*c_comps2*c_comps6*c_comps7 + c3*c4*c6*c_comps0*c_comps1*c_comps2*c_comps5*c_comps7 + c3*c4*c7*c_comps0*c_comps1*c_comps2*c_comps5*c_comps6 + c3*c5*c6*c_comps0*c_comps1*c_comps2*c_comps4*c_comps7 + c3*c5*c7*c_comps0*c_comps1*c_comps2*c_comps4*c_comps6 + c3*c6*c7*c_comps0*c_comps1*c_comps2*c_comps4*c_comps5 + c3*c_comps0*c_comps1*c_comps2*c_comps4*c_comps5*c_comps6*c_comps7 + c4*c5*c6*c_comps0*c_comps1*c_comps2*c_comps3*c_comps7 + c4*c5*c7*c_comps0*c_comps1*c_comps2*c_comps3*c_comps6 + c4*c6*c7*c_comps0*c_comps1*c_comps2*c_comps3*c_comps5 + c4*c_comps0*c_comps1*c_comps2*c_comps3*c_comps5*c_comps6*c_comps7 + c5*c6*c7*c_comps0*c_comps1*c_comps2*c_comps3*c_comps4 + c5*c_comps0*c_comps1*c_comps2*c_comps3*c_comps4*c_comps6*c_comps7 + c6*c_comps0*c_comps1*c_comps2*c_comps3*c_comps4*c_comps5*c_comps7 + c7*c_comps0*c_comps1*c_comps2*c_comps3*c_comps4*c_comps5*c_comps6\n",
            "q1: c2*c3*c4*c5*c6*c_comps1*c_comps7 + c2*c3*c4*c5*c7*c_comps1*c_comps6 + c2*c3*c4*c6*c7*c_comps1*c_comps5 + c2*c3*c4*c_comps1*c_comps5*c_comps6*c_comps7 + c2*c3*c5*c6*c7*c_comps1*c_comps4 + c2*c3*c5*c_comps1*c_comps4*c_comps6*c_comps7 + c2*c3*c6*c_comps1*c_comps4*c_comps5*c_comps7 + c2*c3*c7*c_comps1*c_comps4*c_comps5*c_comps6 + c2*c4*c5*c6*c7*c_comps1*c_comps3 + c2*c4*c5*c_comps1*c_comps3*c_comps6*c_comps7 + c2*c4*c6*c_comps1*c_comps3*c_comps5*c_comps7 + c2*c4*c7*c_comps1*c_comps3*c_comps5*c_comps6 + c2*c5*c6*c_comps1*c_comps3*c_comps4*c_comps7 + c2*c5*c7*c_comps1*c_comps3*c_comps4*c_comps6 + c2*c6*c7*c_comps1*c_comps3*c_comps4*c_comps5 + c2*c_comps1*c_comps3*c_comps4*c_comps5*c_comps6*c_comps7 + c3*c4*c5*c6*c7*c_comps1*c_comps2 + c3*c4*c5*c_comps1*c_comps2*c_comps6*c_comps7 + c3*c4*c6*c_comps1*c_comps2*c_comps5*c_comps7 + c3*c4*c7*c_comps1*c_comps2*c_comps5*c_comps6 + c3*c5*c6*c_comps1*c_comps2*c_comps4*c_comps7 + c3*c5*c7*c_comps1*c_comps2*c_comps4*c_comps6 + c3*c6*c7*c_comps1*c_comps2*c_comps4*c_comps5 + c3*c_comps1*c_comps2*c_comps4*c_comps5*c_comps6*c_comps7 + c4*c5*c6*c_comps1*c_comps2*c_comps3*c_comps7 + c4*c5*c7*c_comps1*c_comps2*c_comps3*c_comps6 + c4*c6*c7*c_comps1*c_comps2*c_comps3*c_comps5 + c4*c_comps1*c_comps2*c_comps3*c_comps5*c_comps6*c_comps7 + c5*c6*c7*c_comps1*c_comps2*c_comps3*c_comps4 + c5*c_comps1*c_comps2*c_comps3*c_comps4*c_comps6*c_comps7 + c6*c_comps1*c_comps2*c_comps3*c_comps4*c_comps5*c_comps7 + c7*c_comps1*c_comps2*c_comps3*c_comps4*c_comps5*c_comps6\n",
            "q2: c3*c4*c5*c6*c7*c_comps2 + c3*c4*c5*c_comps2*c_comps6*c_comps7 + c3*c4*c6*c_comps2*c_comps5*c_comps7 + c3*c4*c7*c_comps2*c_comps5*c_comps6 + c3*c5*c6*c_comps2*c_comps4*c_comps7 + c3*c5*c7*c_comps2*c_comps4*c_comps6 + c3*c6*c7*c_comps2*c_comps4*c_comps5 + c3*c_comps2*c_comps4*c_comps5*c_comps6*c_comps7 + c4*c5*c6*c_comps2*c_comps3*c_comps7 + c4*c5*c7*c_comps2*c_comps3*c_comps6 + c4*c6*c7*c_comps2*c_comps3*c_comps5 + c4*c_comps2*c_comps3*c_comps5*c_comps6*c_comps7 + c5*c6*c7*c_comps2*c_comps3*c_comps4 + c5*c_comps2*c_comps3*c_comps4*c_comps6*c_comps7 + c6*c_comps2*c_comps3*c_comps4*c_comps5*c_comps7 + c7*c_comps2*c_comps3*c_comps4*c_comps5*c_comps6\n",
            "q3: c4*c5*c6*c_comps3*c_comps7 + c4*c5*c7*c_comps3*c_comps6 + c4*c6*c7*c_comps3*c_comps5 + c4*c_comps3*c_comps5*c_comps6*c_comps7 + c5*c6*c7*c_comps3*c_comps4 + c5*c_comps3*c_comps4*c_comps6*c_comps7 + c6*c_comps3*c_comps4*c_comps5*c_comps7 + c7*c_comps3*c_comps4*c_comps5*c_comps6\n",
            "q4: c5*c6*c7*c_comps4 + c5*c_comps4*c_comps6*c_comps7 + c6*c_comps4*c_comps5*c_comps7 + c7*c_comps4*c_comps5*c_comps6\n",
            "q5: c6*c_comps5*c_comps7 + c7*c_comps5*c_comps6\n",
            "q6: c7*c_comps6\n",
            "r0: c0*c1*c2*c3*c4*c5*c6*c7 + c0*c1*c2*c3*c4*c5*c_comps6*c_comps7 + c0*c1*c2*c3*c4*c6*c_comps5*c_comps7 + c0*c1*c2*c3*c4*c7*c_comps5*c_comps6 + c0*c1*c2*c3*c5*c6*c_comps4*c_comps7 + c0*c1*c2*c3*c5*c7*c_comps4*c_comps6 + c0*c1*c2*c3*c6*c7*c_comps4*c_comps5 + c0*c1*c2*c3*c_comps4*c_comps5*c_comps6*c_comps7 + c0*c1*c2*c4*c5*c6*c_comps3*c_comps7 + c0*c1*c2*c4*c5*c7*c_comps3*c_comps6 + c0*c1*c2*c4*c6*c7*c_comps3*c_comps5 + c0*c1*c2*c4*c_comps3*c_comps5*c_comps6*c_comps7 + c0*c1*c2*c5*c6*c7*c_comps3*c_comps4 + c0*c1*c2*c5*c_comps3*c_comps4*c_comps6*c_comps7 + c0*c1*c2*c6*c_comps3*c_comps4*c_comps5*c_comps7 + c0*c1*c2*c7*c_comps3*c_comps4*c_comps5*c_comps6 + c0*c1*c3*c4*c5*c6*c_comps2*c_comps7 + c0*c1*c3*c4*c5*c7*c_comps2*c_comps6 + c0*c1*c3*c4*c6*c7*c_comps2*c_comps5 + c0*c1*c3*c4*c_comps2*c_comps5*c_comps6*c_comps7 + c0*c1*c3*c5*c6*c7*c_comps2*c_comps4 + c0*c1*c3*c5*c_comps2*c_comps4*c_comps6*c_comps7 + c0*c1*c3*c6*c_comps2*c_comps4*c_comps5*c_comps7 + c0*c1*c3*c7*c_comps2*c_comps4*c_comps5*c_comps6 + c0*c1*c4*c5*c6*c7*c_comps2*c_comps3 + c0*c1*c4*c5*c_comps2*c_comps3*c_comps6*c_comps7 + c0*c1*c4*c6*c_comps2*c_comps3*c_comps5*c_comps7 + c0*c1*c4*c7*c_comps2*c_comps3*c_comps5*c_comps6 + c0*c1*c5*c6*c_comps2*c_comps3*c_comps4*c_comps7 + c0*c1*c5*c7*c_comps2*c_comps3*c_comps4*c_comps6 + c0*c1*c6*c7*c_comps2*c_comps3*c_comps4*c_comps5 + c0*c1*c_comps2*c_comps3*c_comps4*c_comps5*c_comps6*c_comps7 + c0*c2*c3*c4*c5*c6*c_comps1*c_comps7 + c0*c2*c3*c4*c5*c7*c_comps1*c_comps6 + c0*c2*c3*c4*c6*c7*c_comps1*c_comps5 + c0*c2*c3*c4*c_comps1*c_comps5*c_comps6*c_comps7 + c0*c2*c3*c5*c6*c7*c_comps1*c_comps4 + c0*c2*c3*c5*c_comps1*c_comps4*c_comps6*c_comps7 + c0*c2*c3*c6*c_comps1*c_comps4*c_comps5*c_comps7 + c0*c2*c3*c7*c_comps1*c_comps4*c_comps5*c_comps6 + c0*c2*c4*c5*c6*c7*c_comps1*c_comps3 + c0*c2*c4*c5*c_comps1*c_comps3*c_comps6*c_comps7 + c0*c2*c4*c6*c_comps1*c_comps3*c_comps5*c_comps7 + c0*c2*c4*c7*c_comps1*c_comps3*c_comps5*c_comps6 + c0*c2*c5*c6*c_comps1*c_comps3*c_comps4*c_comps7 + c0*c2*c5*c7*c_comps1*c_comps3*c_comps4*c_comps6 + c0*c2*c6*c7*c_comps1*c_comps3*c_comps4*c_comps5 + c0*c2*c_comps1*c_comps3*c_comps4*c_comps5*c_comps6*c_comps7 + c0*c3*c4*c5*c6*c7*c_comps1*c_comps2 + c0*c3*c4*c5*c_comps1*c_comps2*c_comps6*c_comps7 + c0*c3*c4*c6*c_comps1*c_comps2*c_comps5*c_comps7 + c0*c3*c4*c7*c_comps1*c_comps2*c_comps5*c_comps6 + c0*c3*c5*c6*c_comps1*c_comps2*c_comps4*c_comps7 + c0*c3*c5*c7*c_comps1*c_comps2*c_comps4*c_comps6 + c0*c3*c6*c7*c_comps1*c_comps2*c_comps4*c_comps5 + c0*c3*c_comps1*c_comps2*c_comps4*c_comps5*c_comps6*c_comps7 + c0*c4*c5*c6*c_comps1*c_comps2*c_comps3*c_comps7 + c0*c4*c5*c7*c_comps1*c_comps2*c_comps3*c_comps6 + c0*c4*c6*c7*c_comps1*c_comps2*c_comps3*c_comps5 + c0*c4*c_comps1*c_comps2*c_comps3*c_comps5*c_comps6*c_comps7 + c0*c5*c6*c7*c_comps1*c_comps2*c_comps3*c_comps4 + c0*c5*c_comps1*c_comps2*c_comps3*c_comps4*c_comps6*c_comps7 + c0*c6*c_comps1*c_comps2*c_comps3*c_comps4*c_comps5*c_comps7 + c0*c7*c_comps1*c_comps2*c_comps3*c_comps4*c_comps5*c_comps6\n",
            "r1: c1*c2*c3*c4*c5*c6*c_comps7 + c1*c2*c3*c4*c5*c7*c_comps6 + c1*c2*c3*c4*c6*c7*c_comps5 + c1*c2*c3*c4*c_comps5*c_comps6*c_comps7 + c1*c2*c3*c5*c6*c7*c_comps4 + c1*c2*c3*c5*c_comps4*c_comps6*c_comps7 + c1*c2*c3*c6*c_comps4*c_comps5*c_comps7 + c1*c2*c3*c7*c_comps4*c_comps5*c_comps6 + c1*c2*c4*c5*c6*c7*c_comps3 + c1*c2*c4*c5*c_comps3*c_comps6*c_comps7 + c1*c2*c4*c6*c_comps3*c_comps5*c_comps7 + c1*c2*c4*c7*c_comps3*c_comps5*c_comps6 + c1*c2*c5*c6*c_comps3*c_comps4*c_comps7 + c1*c2*c5*c7*c_comps3*c_comps4*c_comps6 + c1*c2*c6*c7*c_comps3*c_comps4*c_comps5 + c1*c2*c_comps3*c_comps4*c_comps5*c_comps6*c_comps7 + c1*c3*c4*c5*c6*c7*c_comps2 + c1*c3*c4*c5*c_comps2*c_comps6*c_comps7 + c1*c3*c4*c6*c_comps2*c_comps5*c_comps7 + c1*c3*c4*c7*c_comps2*c_comps5*c_comps6 + c1*c3*c5*c6*c_comps2*c_comps4*c_comps7 + c1*c3*c5*c7*c_comps2*c_comps4*c_comps6 + c1*c3*c6*c7*c_comps2*c_comps4*c_comps5 + c1*c3*c_comps2*c_comps4*c_comps5*c_comps6*c_comps7 + c1*c4*c5*c6*c_comps2*c_comps3*c_comps7 + c1*c4*c5*c7*c_comps2*c_comps3*c_comps6 + c1*c4*c6*c7*c_comps2*c_comps3*c_comps5 + c1*c4*c_comps2*c_comps3*c_comps5*c_comps6*c_comps7 + c1*c5*c6*c7*c_comps2*c_comps3*c_comps4 + c1*c5*c_comps2*c_comps3*c_comps4*c_comps6*c_comps7 + c1*c6*c_comps2*c_comps3*c_comps4*c_comps5*c_comps7 + c1*c7*c_comps2*c_comps3*c_comps4*c_comps5*c_comps6\n",
            "r2: c2*c3*c4*c5*c6*c7 + c2*c3*c4*c5*c_comps6*c_comps7 + c2*c3*c4*c6*c_comps5*c_comps7 + c2*c3*c4*c7*c_comps5*c_comps6 + c2*c3*c5*c6*c_comps4*c_comps7 + c2*c3*c5*c7*c_comps4*c_comps6 + c2*c3*c6*c7*c_comps4*c_comps5 + c2*c3*c_comps4*c_comps5*c_comps6*c_comps7 + c2*c4*c5*c6*c_comps3*c_comps7 + c2*c4*c5*c7*c_comps3*c_comps6 + c2*c4*c6*c7*c_comps3*c_comps5 + c2*c4*c_comps3*c_comps5*c_comps6*c_comps7 + c2*c5*c6*c7*c_comps3*c_comps4 + c2*c5*c_comps3*c_comps4*c_comps6*c_comps7 + c2*c6*c_comps3*c_comps4*c_comps5*c_comps7 + c2*c7*c_comps3*c_comps4*c_comps5*c_comps6\n",
            "r3: c3*c4*c5*c6*c_comps7 + c3*c4*c5*c7*c_comps6 + c3*c4*c6*c7*c_comps5 + c3*c4*c_comps5*c_comps6*c_comps7 + c3*c5*c6*c7*c_comps4 + c3*c5*c_comps4*c_comps6*c_comps7 + c3*c6*c_comps4*c_comps5*c_comps7 + c3*c7*c_comps4*c_comps5*c_comps6\n",
            "r4: c4*c5*c6*c7 + c4*c5*c_comps6*c_comps7 + c4*c6*c_comps5*c_comps7 + c4*c7*c_comps5*c_comps6\n",
            "r5: c5*c6*c_comps7 + c5*c7*c_comps6\n",
            "r6: c6*c7\n",
            "s0: c0*c1*c2*c3*c4*c5*c6*c_comps7 + c0*c1*c2*c3*c4*c5*c7*c_comps6 + c0*c1*c2*c3*c4*c6*c7*c_comps5 + c0*c1*c2*c3*c4*c_comps5*c_comps6*c_comps7 + c0*c1*c2*c3*c5*c6*c7*c_comps4 + c0*c1*c2*c3*c5*c_comps4*c_comps6*c_comps7 + c0*c1*c2*c3*c6*c_comps4*c_comps5*c_comps7 + c0*c1*c2*c3*c7*c_comps4*c_comps5*c_comps6 + c0*c1*c2*c4*c5*c6*c7*c_comps3 + c0*c1*c2*c4*c5*c_comps3*c_comps6*c_comps7 + c0*c1*c2*c4*c6*c_comps3*c_comps5*c_comps7 + c0*c1*c2*c4*c7*c_comps3*c_comps5*c_comps6 + c0*c1*c2*c5*c6*c_comps3*c_comps4*c_comps7 + c0*c1*c2*c5*c7*c_comps3*c_comps4*c_comps6 + c0*c1*c2*c6*c7*c_comps3*c_comps4*c_comps5 + c0*c1*c2*c_comps3*c_comps4*c_comps5*c_comps6*c_comps7 + c0*c1*c3*c4*c5*c6*c7*c_comps2 + c0*c1*c3*c4*c5*c_comps2*c_comps6*c_comps7 + c0*c1*c3*c4*c6*c_comps2*c_comps5*c_comps7 + c0*c1*c3*c4*c7*c_comps2*c_comps5*c_comps6 + c0*c1*c3*c5*c6*c_comps2*c_comps4*c_comps7 + c0*c1*c3*c5*c7*c_comps2*c_comps4*c_comps6 + c0*c1*c3*c6*c7*c_comps2*c_comps4*c_comps5 + c0*c1*c3*c_comps2*c_comps4*c_comps5*c_comps6*c_comps7 + c0*c1*c4*c5*c6*c_comps2*c_comps3*c_comps7 + c0*c1*c4*c5*c7*c_comps2*c_comps3*c_comps6 + c0*c1*c4*c6*c7*c_comps2*c_comps3*c_comps5 + c0*c1*c4*c_comps2*c_comps3*c_comps5*c_comps6*c_comps7 + c0*c1*c5*c6*c7*c_comps2*c_comps3*c_comps4 + c0*c1*c5*c_comps2*c_comps3*c_comps4*c_comps6*c_comps7 + c0*c1*c6*c_comps2*c_comps3*c_comps4*c_comps5*c_comps7 + c0*c1*c7*c_comps2*c_comps3*c_comps4*c_comps5*c_comps6 + c0*c2*c3*c4*c5*c6*c7*c_comps1 + c0*c2*c3*c4*c5*c_comps1*c_comps6*c_comps7 + c0*c2*c3*c4*c6*c_comps1*c_comps5*c_comps7 + c0*c2*c3*c4*c7*c_comps1*c_comps5*c_comps6 + c0*c2*c3*c5*c6*c_comps1*c_comps4*c_comps7 + c0*c2*c3*c5*c7*c_comps1*c_comps4*c_comps6 + c0*c2*c3*c6*c7*c_comps1*c_comps4*c_comps5 + c0*c2*c3*c_comps1*c_comps4*c_comps5*c_comps6*c_comps7 + c0*c2*c4*c5*c6*c_comps1*c_comps3*c_comps7 + c0*c2*c4*c5*c7*c_comps1*c_comps3*c_comps6 + c0*c2*c4*c6*c7*c_comps1*c_comps3*c_comps5 + c0*c2*c4*c_comps1*c_comps3*c_comps5*c_comps6*c_comps7 + c0*c2*c5*c6*c7*c_comps1*c_comps3*c_comps4 + c0*c2*c5*c_comps1*c_comps3*c_comps4*c_comps6*c_comps7 + c0*c2*c6*c_comps1*c_comps3*c_comps4*c_comps5*c_comps7 + c0*c2*c7*c_comps1*c_comps3*c_comps4*c_comps5*c_comps6 + c0*c3*c4*c5*c6*c_comps1*c_comps2*c_comps7 + c0*c3*c4*c5*c7*c_comps1*c_comps2*c_comps6 + c0*c3*c4*c6*c7*c_comps1*c_comps2*c_comps5 + c0*c3*c4*c_comps1*c_comps2*c_comps5*c_comps6*c_comps7 + c0*c3*c5*c6*c7*c_comps1*c_comps2*c_comps4 + c0*c3*c5*c_comps1*c_comps2*c_comps4*c_comps6*c_comps7 + c0*c3*c6*c_comps1*c_comps2*c_comps4*c_comps5*c_comps7 + c0*c3*c7*c_comps1*c_comps2*c_comps4*c_comps5*c_comps6 + c0*c4*c5*c6*c7*c_comps1*c_comps2*c_comps3 + c0*c4*c5*c_comps1*c_comps2*c_comps3*c_comps6*c_comps7 + c0*c4*c6*c_comps1*c_comps2*c_comps3*c_comps5*c_comps7 + c0*c4*c7*c_comps1*c_comps2*c_comps3*c_comps5*c_comps6 + c0*c5*c6*c_comps1*c_comps2*c_comps3*c_comps4*c_comps7 + c0*c5*c7*c_comps1*c_comps2*c_comps3*c_comps4*c_comps6 + c0*c6*c7*c_comps1*c_comps2*c_comps3*c_comps4*c_comps5 + c0*c_comps1*c_comps2*c_comps3*c_comps4*c_comps5*c_comps6*c_comps7\n",
            "s1: c1*c2*c3*c4*c5*c6*c7 + c1*c2*c3*c4*c5*c_comps6*c_comps7 + c1*c2*c3*c4*c6*c_comps5*c_comps7 + c1*c2*c3*c4*c7*c_comps5*c_comps6 + c1*c2*c3*c5*c6*c_comps4*c_comps7 + c1*c2*c3*c5*c7*c_comps4*c_comps6 + c1*c2*c3*c6*c7*c_comps4*c_comps5 + c1*c2*c3*c_comps4*c_comps5*c_comps6*c_comps7 + c1*c2*c4*c5*c6*c_comps3*c_comps7 + c1*c2*c4*c5*c7*c_comps3*c_comps6 + c1*c2*c4*c6*c7*c_comps3*c_comps5 + c1*c2*c4*c_comps3*c_comps5*c_comps6*c_comps7 + c1*c2*c5*c6*c7*c_comps3*c_comps4 + c1*c2*c5*c_comps3*c_comps4*c_comps6*c_comps7 + c1*c2*c6*c_comps3*c_comps4*c_comps5*c_comps7 + c1*c2*c7*c_comps3*c_comps4*c_comps5*c_comps6 + c1*c3*c4*c5*c6*c_comps2*c_comps7 + c1*c3*c4*c5*c7*c_comps2*c_comps6 + c1*c3*c4*c6*c7*c_comps2*c_comps5 + c1*c3*c4*c_comps2*c_comps5*c_comps6*c_comps7 + c1*c3*c5*c6*c7*c_comps2*c_comps4 + c1*c3*c5*c_comps2*c_comps4*c_comps6*c_comps7 + c1*c3*c6*c_comps2*c_comps4*c_comps5*c_comps7 + c1*c3*c7*c_comps2*c_comps4*c_comps5*c_comps6 + c1*c4*c5*c6*c7*c_comps2*c_comps3 + c1*c4*c5*c_comps2*c_comps3*c_comps6*c_comps7 + c1*c4*c6*c_comps2*c_comps3*c_comps5*c_comps7 + c1*c4*c7*c_comps2*c_comps3*c_comps5*c_comps6 + c1*c5*c6*c_comps2*c_comps3*c_comps4*c_comps7 + c1*c5*c7*c_comps2*c_comps3*c_comps4*c_comps6 + c1*c6*c7*c_comps2*c_comps3*c_comps4*c_comps5 + c1*c_comps2*c_comps3*c_comps4*c_comps5*c_comps6*c_comps7\n",
            "s2: c2*c3*c4*c5*c6*c_comps7 + c2*c3*c4*c5*c7*c_comps6 + c2*c3*c4*c6*c7*c_comps5 + c2*c3*c4*c_comps5*c_comps6*c_comps7 + c2*c3*c5*c6*c7*c_comps4 + c2*c3*c5*c_comps4*c_comps6*c_comps7 + c2*c3*c6*c_comps4*c_comps5*c_comps7 + c2*c3*c7*c_comps4*c_comps5*c_comps6 + c2*c4*c5*c6*c7*c_comps3 + c2*c4*c5*c_comps3*c_comps6*c_comps7 + c2*c4*c6*c_comps3*c_comps5*c_comps7 + c2*c4*c7*c_comps3*c_comps5*c_comps6 + c2*c5*c6*c_comps3*c_comps4*c_comps7 + c2*c5*c7*c_comps3*c_comps4*c_comps6 + c2*c6*c7*c_comps3*c_comps4*c_comps5 + c2*c_comps3*c_comps4*c_comps5*c_comps6*c_comps7\n",
            "s3: c3*c4*c5*c6*c7 + c3*c4*c5*c_comps6*c_comps7 + c3*c4*c6*c_comps5*c_comps7 + c3*c4*c7*c_comps5*c_comps6 + c3*c5*c6*c_comps4*c_comps7 + c3*c5*c7*c_comps4*c_comps6 + c3*c6*c7*c_comps4*c_comps5 + c3*c_comps4*c_comps5*c_comps6*c_comps7\n",
            "s4: c4*c5*c6*c_comps7 + c4*c5*c7*c_comps6 + c4*c6*c7*c_comps5 + c4*c_comps5*c_comps6*c_comps7\n",
            "s5: c5*c6*c7 + c5*c_comps6*c_comps7\n",
            "s6: c6*c_comps7\n",
            "s7: c7\n"
          ]
        }
      ],
      "source": [
        "from sympy import symbols, simplify, collect, expand\n",
        "\n",
        "# Define symbols\n",
        "k = 7  # You can change this to any value up to 7\n",
        "c = symbols(f'c0:{k+1}')\n",
        "c_comps = symbols(f'c_comps0:{k+1}')\n",
        "p = symbols(f'p0:{k+1}')\n",
        "q = symbols(f'q0:{k+1}')\n",
        "r = symbols(f'r0:{k+1}')\n",
        "s = symbols(f's0:{k+1}')\n",
        "\n",
        "# Initialize Delta arrays\n",
        "Delta = [0] * (k+1)\n",
        "Delta_ = [0] * (k+1)\n",
        "\n",
        "# Base case\n",
        "Delta[0]  = c_comps[0] * p[0] + c[0] * s[0]\n",
        "Delta_[0] = c_comps[0] * q[0] + c[0] * r[0]\n",
        "\n",
        "# Recurrence\n",
        "for i in range(1, k+1):\n",
        "    Delta[i]  = simplify(c_comps[i] * (Delta[i-1] + p[i]) + c[i] * (Delta_[i-1] + s[i]))\n",
        "    Delta_[i] = simplify(c_comps[i] * (Delta_[i-1] + q[i]) + c[i] * (Delta[i-1] + r[i]))\n",
        "\n",
        "# Expand and collect like terms for Delta[k]\n",
        "Delta_k = expand(Delta[k])\n",
        "grouped_terms = collect(Delta_k, p + q + r + s, evaluate=False)\n",
        "\n",
        "# Print coefficients for each term\n",
        "print(f\"Coefficients for Delta[{k}]:\\n\")\n",
        "for symbol in p + q + r + s:\n",
        "    if symbol in grouped_terms:\n",
        "        print(f\"{symbol}: {grouped_terms[symbol]}\")"
      ]
    },
    {
      "cell_type": "code",
      "execution_count": 34,
      "metadata": {
        "colab": {
          "base_uri": "https://localhost:8080/"
        },
        "id": "u03JazMqY5TQ",
        "outputId": "e6f93903-9488-40b6-c3fc-7569a76b92c1"
      },
      "outputs": [
        {
          "data": {
            "text/plain": [
              "(10,\n",
              " [c_comps2,\n",
              "  c2*c_comps1,\n",
              "  c2,\n",
              "  c0*c1*c_comps2 + c0*c2*c_comps1,\n",
              "  c1*c_comps0*c_comps2 + c2*c_comps0*c_comps1,\n",
              "  c1*c2*c_comps0 + c_comps0*c_comps1*c_comps2,\n",
              "  c0*c1*c2 + c0*c_comps1*c_comps2,\n",
              "  c1*c_comps2,\n",
              "  c1*c2,\n",
              "  c_comps1*c_comps2])"
            ]
          },
          "execution_count": 34,
          "metadata": {},
          "output_type": "execute_result"
        }
      ],
      "source": [
        "from sympy import symbols, simplify, collect, expand, Mul\n",
        "\n",
        "# Set k\n",
        "k = 2  # You can change this up to 7\n",
        "\n",
        "# Define symbols\n",
        "c = symbols(f'c0:{k+1}')\n",
        "c_comps = symbols(f'c_comps0:{k+1}')\n",
        "p = symbols(f'p0:{k+1}')\n",
        "q = symbols(f'q0:{k+1}')\n",
        "r = symbols(f'r0:{k+1}')\n",
        "s = symbols(f's0:{k+1}')\n",
        "\n",
        "# Initialize Delta arrays\n",
        "Delta = [0] * (k+1)\n",
        "Delta_ = [0] * (k+1)\n",
        "\n",
        "# Base case\n",
        "Delta[0]  = c_comps[0] * p[0] + c[0] * s[0]\n",
        "Delta_[0] = c_comps[0] * q[0] + c[0] * r[0]\n",
        "\n",
        "# Recurrence\n",
        "for i in range(1, k+1):\n",
        "    Delta[i]  = simplify(c_comps[i] * (Delta[i-1] + p[i]) + c[i] * (Delta_[i-1] + s[i]))\n",
        "    Delta_[i] = simplify(c_comps[i] * (Delta_[i-1] + q[i]) + c[i] * (Delta[i-1] + r[i]))\n",
        "\n",
        "# Expand and collect like terms for Delta[k]\n",
        "Delta_k = expand(Delta[k])\n",
        "grouped_terms = collect(Delta_k, p + q + r + s, evaluate=False)\n",
        "\n",
        "# Extract all coefficients and normalize their factors\n",
        "unique_products = set()\n",
        "\n",
        "for expr in grouped_terms.values():\n",
        "    if isinstance(expr, Mul):\n",
        "        factors = expr.as_ordered_factors()\n",
        "    else:\n",
        "        factors = [expr]\n",
        "    flat_factors = []\n",
        "    for factor in factors:\n",
        "        flat_factors.extend(factor.as_ordered_factors() if isinstance(factor, Mul) else [factor])\n",
        "    normalized = tuple(sorted(flat_factors, key=str))\n",
        "    unique_products.add(normalized)\n",
        "\n",
        "# Convert set of tuples back to expressions\n",
        "unique_exprs = [Mul(*factors) for factors in unique_products]\n",
        "\n",
        "len(unique_exprs), unique_exprs"
      ]
    },
    {
      "cell_type": "code",
      "execution_count": null,
      "metadata": {
        "id": "Tp55q_Hzcqi_"
      },
      "outputs": [],
      "source": []
    }
  ],
  "metadata": {
    "colab": {
      "provenance": []
    },
    "kernelspec": {
      "display_name": "base",
      "language": "python",
      "name": "python3"
    },
    "language_info": {
      "codemirror_mode": {
        "name": "ipython",
        "version": 3
      },
      "file_extension": ".py",
      "mimetype": "text/x-python",
      "name": "python",
      "nbconvert_exporter": "python",
      "pygments_lexer": "ipython3",
      "version": "3.12.7"
    }
  },
  "nbformat": 4,
  "nbformat_minor": 0
}
