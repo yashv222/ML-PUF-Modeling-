{
  "nbformat": 4,
  "nbformat_minor": 0,
  "metadata": {
    "colab": {
      "provenance": []
    },
    "kernelspec": {
      "name": "python3",
      "display_name": "Python 3"
    },
    "language_info": {
      "name": "python"
    }
  },
  "cells": [
    {
      "cell_type": "code",
      "execution_count": 10,
      "metadata": {
        "id": "5IhJWcNRsWC-"
      },
      "outputs": [],
      "source": [
        "# Import\n",
        "import numpy as np\n",
        "import time\n",
        "from submit import my_map\n",
        "from sklearn.svm import LinearSVC\n",
        "from sklearn.linear_model import LogisticRegression\n",
        "from sklearn.metrics import accuracy_score\n",
        "import pandas as pd"
      ]
    },
    {
      "cell_type": "code",
      "source": [
        "# Load the challenge-response pairs\n",
        "Z_trn = np.loadtxt(\"secret_trn.txt\")\n",
        "Z_tst = np.loadtxt(\"secret_tst.txt\")\n",
        "\n",
        "X_train = Z_trn[:, :-1]\n",
        "y_train = Z_trn[:, -1]\n",
        "X_test = Z_tst[:, :-1]\n",
        "y_test = Z_tst[:, -1]\n",
        "\n",
        "# Map the challenges to high-dimensional space\n",
        "X_train_mapped = my_map(X_train)\n",
        "X_test_mapped = my_map(X_test)\n",
        "\n",
        "print(\"Feature space shape:\", X_train_mapped.shape)"
      ],
      "metadata": {
        "id": "LyDzwfPYsb9d",
        "colab": {
          "base_uri": "https://localhost:8080/"
        },
        "outputId": "9403df66-69ea-40cf-ea01-622261678dd2"
      },
      "execution_count": 11,
      "outputs": [
        {
          "output_type": "stream",
          "name": "stdout",
          "text": [
            "Feature space shape: (6400, 255)\n"
          ]
        }
      ]
    },
    {
      "cell_type": "code",
      "source": [
        "svc_grid = {\n",
        "    'C': [0.01, 1, 10, 100],\n",
        "    'loss': ['hinge', 'squared_hinge'],\n",
        "    'penalty': ['l2', 'l1'],\n",
        "    'tol': [1e-1, 1e-3, 1e-5]\n",
        "}\n",
        "\n",
        "log_grid = {\n",
        "    'C': [0.01, 1, 10, 100],\n",
        "    'penalty': ['l2', 'l1'],\n",
        "    'tol': [1e-1, 1e-3, 1e-5],\n",
        "    'solver': ['liblinear']  # liblinear supports both l1 and l2\n",
        "}"
      ],
      "metadata": {
        "id": "k7v5ghgDsnTR"
      },
      "execution_count": 12,
      "outputs": []
    },
    {
      "cell_type": "code",
      "source": [
        "svc_results = []\n",
        "\n",
        "print(\"Evaluating LinearSVC hyperparameters...\\n\")\n",
        "counter = 1\n",
        "total = len(svc_grid['C']) * len(svc_grid['loss']) * len(svc_grid['penalty']) * len(svc_grid['tol'])\n",
        "\n",
        "for C in svc_grid['C']:\n",
        "    for loss in svc_grid['loss']:\n",
        "        for penalty in svc_grid['penalty']:\n",
        "            for tol in svc_grid['tol']:\n",
        "                print(f\"[{counter}/{total}] Trying: C={C}, loss={loss}, penalty={penalty}, tol={tol}\")\n",
        "                counter += 1\n",
        "\n",
        "                # Skip invalid combination\n",
        "                if penalty == 'l1' and loss == 'hinge':\n",
        "                    print(\"    Skipped (invalid config for SVC)\")\n",
        "                    continue\n",
        "\n",
        "                try:\n",
        "                    dual = False if penalty == 'l1' else True\n",
        "                    model = LinearSVC(C=C, loss=loss, penalty=penalty, tol=tol,\n",
        "                                      dual=dual, max_iter=3000, random_state=42)\n",
        "\n",
        "                    start = time.time()\n",
        "                    model.fit(X_train_mapped, y_train)\n",
        "                    elapsed = time.time() - start\n",
        "\n",
        "                    y_pred = model.predict(X_test_mapped)\n",
        "                    acc = accuracy_score(y_test, y_pred)\n",
        "\n",
        "                    print(f\"    ✅ Accuracy: {acc:.4f}, Train Time: {elapsed:.2f}s\\n\")\n",
        "\n",
        "                    svc_results.append({\n",
        "                        'model': 'LinearSVC', 'C': C, 'loss': loss, 'penalty': penalty,\n",
        "                        'tol': tol, 'acc': acc, 'time': elapsed\n",
        "                    })\n",
        "                except Exception as e:\n",
        "                    print(f\"    ❌ Skipped due to error: {e}\\n\")"
      ],
      "metadata": {
        "id": "QLjzaNP8tDw4",
        "colab": {
          "base_uri": "https://localhost:8080/"
        },
        "outputId": "235bc582-ba42-44b1-86d3-0074f6cf2670"
      },
      "execution_count": 14,
      "outputs": [
        {
          "output_type": "stream",
          "name": "stdout",
          "text": [
            "Evaluating LinearSVC hyperparameters...\n",
            "\n",
            "[1/48] Trying: C=0.01, loss=hinge, penalty=l2, tol=0.1\n",
            "    ✅ Accuracy: 1.0000, Train Time: 0.03s\n",
            "\n",
            "[2/48] Trying: C=0.01, loss=hinge, penalty=l2, tol=0.001\n",
            "    ✅ Accuracy: 1.0000, Train Time: 0.03s\n",
            "\n",
            "[3/48] Trying: C=0.01, loss=hinge, penalty=l2, tol=1e-05\n",
            "    ✅ Accuracy: 1.0000, Train Time: 0.04s\n",
            "\n",
            "[4/48] Trying: C=0.01, loss=hinge, penalty=l1, tol=0.1\n",
            "    Skipped (invalid config for SVC)\n",
            "[5/48] Trying: C=0.01, loss=hinge, penalty=l1, tol=0.001\n",
            "    Skipped (invalid config for SVC)\n",
            "[6/48] Trying: C=0.01, loss=hinge, penalty=l1, tol=1e-05\n",
            "    Skipped (invalid config for SVC)\n",
            "[7/48] Trying: C=0.01, loss=squared_hinge, penalty=l2, tol=0.1\n",
            "    ✅ Accuracy: 1.0000, Train Time: 0.18s\n",
            "\n",
            "[8/48] Trying: C=0.01, loss=squared_hinge, penalty=l2, tol=0.001\n",
            "    ✅ Accuracy: 1.0000, Train Time: 0.65s\n",
            "\n",
            "[9/48] Trying: C=0.01, loss=squared_hinge, penalty=l2, tol=1e-05\n",
            "    ✅ Accuracy: 1.0000, Train Time: 0.62s\n",
            "\n",
            "[10/48] Trying: C=0.01, loss=squared_hinge, penalty=l1, tol=0.1\n",
            "    ✅ Accuracy: 1.0000, Train Time: 0.06s\n",
            "\n",
            "[11/48] Trying: C=0.01, loss=squared_hinge, penalty=l1, tol=0.001\n",
            "    ✅ Accuracy: 1.0000, Train Time: 0.24s\n",
            "\n",
            "[12/48] Trying: C=0.01, loss=squared_hinge, penalty=l1, tol=1e-05\n",
            "    ✅ Accuracy: 1.0000, Train Time: 0.91s\n",
            "\n",
            "[13/48] Trying: C=1, loss=hinge, penalty=l2, tol=0.1\n",
            "    ✅ Accuracy: 1.0000, Train Time: 0.03s\n",
            "\n",
            "[14/48] Trying: C=1, loss=hinge, penalty=l2, tol=0.001\n",
            "    ✅ Accuracy: 1.0000, Train Time: 0.03s\n",
            "\n",
            "[15/48] Trying: C=1, loss=hinge, penalty=l2, tol=1e-05\n",
            "    ✅ Accuracy: 1.0000, Train Time: 0.03s\n",
            "\n",
            "[16/48] Trying: C=1, loss=hinge, penalty=l1, tol=0.1\n",
            "    Skipped (invalid config for SVC)\n",
            "[17/48] Trying: C=1, loss=hinge, penalty=l1, tol=0.001\n",
            "    Skipped (invalid config for SVC)\n",
            "[18/48] Trying: C=1, loss=hinge, penalty=l1, tol=1e-05\n",
            "    Skipped (invalid config for SVC)\n",
            "[19/48] Trying: C=1, loss=squared_hinge, penalty=l2, tol=0.1\n",
            "    ✅ Accuracy: 1.0000, Train Time: 0.03s\n",
            "\n",
            "[20/48] Trying: C=1, loss=squared_hinge, penalty=l2, tol=0.001\n",
            "    ✅ Accuracy: 1.0000, Train Time: 6.05s\n",
            "\n",
            "[21/48] Trying: C=1, loss=squared_hinge, penalty=l2, tol=1e-05\n",
            "    ✅ Accuracy: 1.0000, Train Time: 23.91s\n",
            "\n",
            "[22/48] Trying: C=1, loss=squared_hinge, penalty=l1, tol=0.1\n",
            "    ✅ Accuracy: 1.0000, Train Time: 0.08s\n",
            "\n",
            "[23/48] Trying: C=1, loss=squared_hinge, penalty=l1, tol=0.001\n",
            "    ✅ Accuracy: 1.0000, Train Time: 1.33s\n",
            "\n",
            "[24/48] Trying: C=1, loss=squared_hinge, penalty=l1, tol=1e-05\n"
          ]
        },
        {
          "output_type": "stream",
          "name": "stderr",
          "text": [
            "/usr/local/lib/python3.11/dist-packages/sklearn/svm/_base.py:1249: ConvergenceWarning: Liblinear failed to converge, increase the number of iterations.\n",
            "  warnings.warn(\n"
          ]
        },
        {
          "output_type": "stream",
          "name": "stdout",
          "text": [
            "    ✅ Accuracy: 1.0000, Train Time: 10.14s\n",
            "\n",
            "[25/48] Trying: C=10, loss=hinge, penalty=l2, tol=0.1\n",
            "    ✅ Accuracy: 1.0000, Train Time: 0.03s\n",
            "\n",
            "[26/48] Trying: C=10, loss=hinge, penalty=l2, tol=0.001\n",
            "    ✅ Accuracy: 1.0000, Train Time: 0.03s\n",
            "\n",
            "[27/48] Trying: C=10, loss=hinge, penalty=l2, tol=1e-05\n",
            "    ✅ Accuracy: 1.0000, Train Time: 0.03s\n",
            "\n",
            "[28/48] Trying: C=10, loss=hinge, penalty=l1, tol=0.1\n",
            "    Skipped (invalid config for SVC)\n",
            "[29/48] Trying: C=10, loss=hinge, penalty=l1, tol=0.001\n",
            "    Skipped (invalid config for SVC)\n",
            "[30/48] Trying: C=10, loss=hinge, penalty=l1, tol=1e-05\n",
            "    Skipped (invalid config for SVC)\n",
            "[31/48] Trying: C=10, loss=squared_hinge, penalty=l2, tol=0.1\n",
            "    ✅ Accuracy: 1.0000, Train Time: 0.03s\n",
            "\n",
            "[32/48] Trying: C=10, loss=squared_hinge, penalty=l2, tol=0.001\n",
            "    ✅ Accuracy: 1.0000, Train Time: 0.03s\n",
            "\n",
            "[33/48] Trying: C=10, loss=squared_hinge, penalty=l2, tol=1e-05\n"
          ]
        },
        {
          "output_type": "stream",
          "name": "stderr",
          "text": [
            "/usr/local/lib/python3.11/dist-packages/sklearn/svm/_base.py:1249: ConvergenceWarning: Liblinear failed to converge, increase the number of iterations.\n",
            "  warnings.warn(\n"
          ]
        },
        {
          "output_type": "stream",
          "name": "stdout",
          "text": [
            "    ✅ Accuracy: 1.0000, Train Time: 23.90s\n",
            "\n",
            "[34/48] Trying: C=10, loss=squared_hinge, penalty=l1, tol=0.1\n",
            "    ✅ Accuracy: 1.0000, Train Time: 0.08s\n",
            "\n",
            "[35/48] Trying: C=10, loss=squared_hinge, penalty=l1, tol=0.001\n",
            "    ✅ Accuracy: 1.0000, Train Time: 0.09s\n",
            "\n",
            "[36/48] Trying: C=10, loss=squared_hinge, penalty=l1, tol=1e-05\n"
          ]
        },
        {
          "output_type": "stream",
          "name": "stderr",
          "text": [
            "/usr/local/lib/python3.11/dist-packages/sklearn/svm/_base.py:1249: ConvergenceWarning: Liblinear failed to converge, increase the number of iterations.\n",
            "  warnings.warn(\n"
          ]
        },
        {
          "output_type": "stream",
          "name": "stdout",
          "text": [
            "    ✅ Accuracy: 1.0000, Train Time: 14.96s\n",
            "\n",
            "[37/48] Trying: C=100, loss=hinge, penalty=l2, tol=0.1\n",
            "    ✅ Accuracy: 1.0000, Train Time: 0.03s\n",
            "\n",
            "[38/48] Trying: C=100, loss=hinge, penalty=l2, tol=0.001\n",
            "    ✅ Accuracy: 1.0000, Train Time: 0.03s\n",
            "\n",
            "[39/48] Trying: C=100, loss=hinge, penalty=l2, tol=1e-05\n",
            "    ✅ Accuracy: 1.0000, Train Time: 0.03s\n",
            "\n",
            "[40/48] Trying: C=100, loss=hinge, penalty=l1, tol=0.1\n",
            "    Skipped (invalid config for SVC)\n",
            "[41/48] Trying: C=100, loss=hinge, penalty=l1, tol=0.001\n",
            "    Skipped (invalid config for SVC)\n",
            "[42/48] Trying: C=100, loss=hinge, penalty=l1, tol=1e-05\n",
            "    Skipped (invalid config for SVC)\n",
            "[43/48] Trying: C=100, loss=squared_hinge, penalty=l2, tol=0.1\n",
            "    ✅ Accuracy: 1.0000, Train Time: 0.03s\n",
            "\n",
            "[44/48] Trying: C=100, loss=squared_hinge, penalty=l2, tol=0.001\n",
            "    ✅ Accuracy: 1.0000, Train Time: 0.03s\n",
            "\n",
            "[45/48] Trying: C=100, loss=squared_hinge, penalty=l2, tol=1e-05\n"
          ]
        },
        {
          "output_type": "stream",
          "name": "stderr",
          "text": [
            "/usr/local/lib/python3.11/dist-packages/sklearn/svm/_base.py:1249: ConvergenceWarning: Liblinear failed to converge, increase the number of iterations.\n",
            "  warnings.warn(\n"
          ]
        },
        {
          "output_type": "stream",
          "name": "stdout",
          "text": [
            "    ✅ Accuracy: 1.0000, Train Time: 23.69s\n",
            "\n",
            "[46/48] Trying: C=100, loss=squared_hinge, penalty=l1, tol=0.1\n",
            "    ✅ Accuracy: 1.0000, Train Time: 0.07s\n",
            "\n",
            "[47/48] Trying: C=100, loss=squared_hinge, penalty=l1, tol=0.001\n",
            "    ✅ Accuracy: 1.0000, Train Time: 0.08s\n",
            "\n",
            "[48/48] Trying: C=100, loss=squared_hinge, penalty=l1, tol=1e-05\n",
            "    ✅ Accuracy: 1.0000, Train Time: 26.32s\n",
            "\n"
          ]
        },
        {
          "output_type": "stream",
          "name": "stderr",
          "text": [
            "/usr/local/lib/python3.11/dist-packages/sklearn/svm/_base.py:1249: ConvergenceWarning: Liblinear failed to converge, increase the number of iterations.\n",
            "  warnings.warn(\n"
          ]
        }
      ]
    },
    {
      "cell_type": "code",
      "source": [
        "log_results = []\n",
        "\n",
        "print(\"Evaluating LogisticRegression hyperparameters...\\n\")\n",
        "counter = 1\n",
        "total = len(log_grid['C']) * len(log_grid['penalty']) * len(log_grid['tol']) * len(log_grid['solver'])\n",
        "\n",
        "for C in log_grid['C']:\n",
        "    for penalty in log_grid['penalty']:\n",
        "        for tol in log_grid['tol']:\n",
        "            for solver in log_grid['solver']:\n",
        "                print(f\"[{counter}/{total}] Trying: C={C}, penalty={penalty}, tol={tol}, solver={solver}\")\n",
        "                counter += 1\n",
        "\n",
        "                try:\n",
        "                    model = LogisticRegression(C=C, penalty=penalty, tol=tol, solver=solver,\n",
        "                                               max_iter=5000, fit_intercept=False, random_state=42)\n",
        "                    start = time.time()\n",
        "                    model.fit(X_train_mapped, y_train)\n",
        "                    elapsed = time.time() - start\n",
        "\n",
        "                    y_pred = model.predict(X_test_mapped)\n",
        "                    acc = accuracy_score(y_test, y_pred)\n",
        "\n",
        "                    print(f\"    ✅ Accuracy: {acc:.4f}, Train Time: {elapsed:.2f}s\\n\")\n",
        "\n",
        "                    log_results.append({\n",
        "                        'model': 'LogisticRegression', 'C': C, 'loss': '-', 'penalty': penalty,\n",
        "                        'tol': tol, 'acc': acc, 'time': elapsed\n",
        "                    })\n",
        "                except Exception as e:\n",
        "                    print(f\"    ❌ Skipped due to error: {e}\\n\")"
      ],
      "metadata": {
        "id": "b0SWo4TYuUKc",
        "colab": {
          "base_uri": "https://localhost:8080/"
        },
        "outputId": "c619ea6d-5912-4978-b838-79c6b89712b8"
      },
      "execution_count": 15,
      "outputs": [
        {
          "output_type": "stream",
          "name": "stdout",
          "text": [
            "Evaluating LogisticRegression hyperparameters...\n",
            "\n",
            "[1/24] Trying: C=0.01, penalty=l2, tol=0.1, solver=liblinear\n",
            "    ✅ Accuracy: 1.0000, Train Time: 0.09s\n",
            "\n",
            "[2/24] Trying: C=0.01, penalty=l2, tol=0.001, solver=liblinear\n",
            "    ✅ Accuracy: 1.0000, Train Time: 0.15s\n",
            "\n",
            "[3/24] Trying: C=0.01, penalty=l2, tol=1e-05, solver=liblinear\n",
            "    ✅ Accuracy: 1.0000, Train Time: 0.17s\n",
            "\n",
            "[4/24] Trying: C=0.01, penalty=l1, tol=0.1, solver=liblinear\n",
            "    ✅ Accuracy: 0.9738, Train Time: 0.06s\n",
            "\n",
            "[5/24] Trying: C=0.01, penalty=l1, tol=0.001, solver=liblinear\n",
            "    ✅ Accuracy: 0.9738, Train Time: 0.07s\n",
            "\n",
            "[6/24] Trying: C=0.01, penalty=l1, tol=1e-05, solver=liblinear\n",
            "    ✅ Accuracy: 0.9738, Train Time: 0.10s\n",
            "\n",
            "[7/24] Trying: C=1, penalty=l2, tol=0.1, solver=liblinear\n",
            "    ✅ Accuracy: 1.0000, Train Time: 0.16s\n",
            "\n",
            "[8/24] Trying: C=1, penalty=l2, tol=0.001, solver=liblinear\n",
            "    ✅ Accuracy: 1.0000, Train Time: 0.36s\n",
            "\n",
            "[9/24] Trying: C=1, penalty=l2, tol=1e-05, solver=liblinear\n",
            "    ✅ Accuracy: 1.0000, Train Time: 0.47s\n",
            "\n",
            "[10/24] Trying: C=1, penalty=l1, tol=0.1, solver=liblinear\n",
            "    ✅ Accuracy: 1.0000, Train Time: 0.10s\n",
            "\n",
            "[11/24] Trying: C=1, penalty=l1, tol=0.001, solver=liblinear\n",
            "    ✅ Accuracy: 1.0000, Train Time: 0.28s\n",
            "\n",
            "[12/24] Trying: C=1, penalty=l1, tol=1e-05, solver=liblinear\n",
            "    ✅ Accuracy: 1.0000, Train Time: 0.99s\n",
            "\n",
            "[13/24] Trying: C=10, penalty=l2, tol=0.1, solver=liblinear\n",
            "    ✅ Accuracy: 1.0000, Train Time: 0.29s\n",
            "\n",
            "[14/24] Trying: C=10, penalty=l2, tol=0.001, solver=liblinear\n",
            "    ✅ Accuracy: 1.0000, Train Time: 0.36s\n",
            "\n",
            "[15/24] Trying: C=10, penalty=l2, tol=1e-05, solver=liblinear\n",
            "    ✅ Accuracy: 1.0000, Train Time: 0.45s\n",
            "\n",
            "[16/24] Trying: C=10, penalty=l1, tol=0.1, solver=liblinear\n",
            "    ✅ Accuracy: 1.0000, Train Time: 0.09s\n",
            "\n",
            "[17/24] Trying: C=10, penalty=l1, tol=0.001, solver=liblinear\n",
            "    ✅ Accuracy: 1.0000, Train Time: 0.23s\n",
            "\n",
            "[18/24] Trying: C=10, penalty=l1, tol=1e-05, solver=liblinear\n",
            "    ✅ Accuracy: 1.0000, Train Time: 0.74s\n",
            "\n",
            "[19/24] Trying: C=100, penalty=l2, tol=0.1, solver=liblinear\n",
            "    ✅ Accuracy: 1.0000, Train Time: 0.13s\n",
            "\n",
            "[20/24] Trying: C=100, penalty=l2, tol=0.001, solver=liblinear\n",
            "    ✅ Accuracy: 1.0000, Train Time: 0.26s\n",
            "\n",
            "[21/24] Trying: C=100, penalty=l2, tol=1e-05, solver=liblinear\n",
            "    ✅ Accuracy: 1.0000, Train Time: 0.34s\n",
            "\n",
            "[22/24] Trying: C=100, penalty=l1, tol=0.1, solver=liblinear\n",
            "    ✅ Accuracy: 1.0000, Train Time: 0.07s\n",
            "\n",
            "[23/24] Trying: C=100, penalty=l1, tol=0.001, solver=liblinear\n",
            "    ✅ Accuracy: 1.0000, Train Time: 0.15s\n",
            "\n",
            "[24/24] Trying: C=100, penalty=l1, tol=1e-05, solver=liblinear\n",
            "    ✅ Accuracy: 1.0000, Train Time: 0.33s\n",
            "\n"
          ]
        }
      ]
    },
    {
      "cell_type": "code",
      "source": [
        "# Combine results\n",
        "all_results = pd.DataFrame(svc_results + log_results)\n",
        "\n",
        "# Sort by: (1) highest accuracy, (2) lowest training time, (3) lowest mapping time\n",
        "all_results = all_results.sort_values(\n",
        "    by=['acc', 'time'],\n",
        "    ascending=[False, True]\n",
        ")\n",
        "\n",
        "# Display top 10\n",
        "print(\"Top 10 configurations by accuracy (with tie-breaking):\")\n",
        "print(all_results.head(10))"
      ],
      "metadata": {
        "id": "iZs4lZMntVcU",
        "colab": {
          "base_uri": "https://localhost:8080/"
        },
        "outputId": "55d875cd-7de0-4256-fb97-2218b41980b9"
      },
      "execution_count": 20,
      "outputs": [
        {
          "output_type": "stream",
          "name": "stdout",
          "text": [
            "Top 10 configurations by accuracy (with tie-breaking):\n",
            "        model      C           loss penalty      tol  acc      time\n",
            "30  LinearSVC  100.0  squared_hinge      l2  0.10000  1.0  0.025379\n",
            "31  LinearSVC  100.0  squared_hinge      l2  0.00100  1.0  0.025506\n",
            "29  LinearSVC  100.0          hinge      l2  0.00001  1.0  0.025774\n",
            "28  LinearSVC  100.0          hinge      l2  0.00100  1.0  0.026091\n",
            "11  LinearSVC    1.0          hinge      l2  0.00001  1.0  0.026429\n",
            "20  LinearSVC   10.0          hinge      l2  0.00001  1.0  0.026662\n",
            "22  LinearSVC   10.0  squared_hinge      l2  0.00100  1.0  0.027081\n",
            "19  LinearSVC   10.0          hinge      l2  0.00100  1.0  0.027442\n",
            "21  LinearSVC   10.0  squared_hinge      l2  0.10000  1.0  0.027641\n",
            "10  LinearSVC    1.0          hinge      l2  0.00100  1.0  0.028407\n"
          ]
        }
      ]
    },
    {
      "cell_type": "code",
      "source": [
        "# Save the results to CSV for later analysis\n",
        "all_results.to_csv(\"hyperparameter_results.csv\", index=False)"
      ],
      "metadata": {
        "id": "jS_GV0TIvaM2"
      },
      "execution_count": 21,
      "outputs": []
    },
    {
      "cell_type": "code",
      "source": [
        "print( f\"{d_size},{t_train},{t_map},{1 - acc},{t_decode},{m_dist}\" )"
      ],
      "metadata": {
        "colab": {
          "base_uri": "https://localhost:8080/"
        },
        "id": "Bm2PaIh5tGzq",
        "outputId": "d5506dd3-1d1f-4c40-b3f7-51a549ec3098"
      },
      "execution_count": 22,
      "outputs": [
        {
          "output_type": "stream",
          "name": "stdout",
          "text": [
            "255.0,0.09034949939999706,0.005223729800013644,0.0,0.0003960710599994854,4.3497558129820845e-16\n"
          ]
        }
      ]
    },
    {
      "cell_type": "code",
      "source": [
        "# Create DataFrame for LinearSVC results\n",
        "svc_df = pd.DataFrame(svc_results)\n",
        "\n",
        "# Sort by accuracy, train time, and map time\n",
        "svc_df = svc_df.sort_values(by=['acc', 'time'], ascending=[False, True])\n",
        "\n",
        "# Display top 10\n",
        "print(\"Top 10 LinearSVC configurations by accuracy (with tie-breaking):\")\n",
        "print(svc_df.head(10))"
      ],
      "metadata": {
        "colab": {
          "base_uri": "https://localhost:8080/"
        },
        "id": "vvpf_Yg3j3pH",
        "outputId": "7d36d02e-61d7-4a9a-e756-4450bfa2660c"
      },
      "execution_count": 24,
      "outputs": [
        {
          "output_type": "stream",
          "name": "stdout",
          "text": [
            "Top 10 LinearSVC configurations by accuracy (with tie-breaking):\n",
            "        model      C           loss penalty      tol  acc      time\n",
            "30  LinearSVC  100.0  squared_hinge      l2  0.10000  1.0  0.025379\n",
            "31  LinearSVC  100.0  squared_hinge      l2  0.00100  1.0  0.025506\n",
            "29  LinearSVC  100.0          hinge      l2  0.00001  1.0  0.025774\n",
            "28  LinearSVC  100.0          hinge      l2  0.00100  1.0  0.026091\n",
            "11  LinearSVC    1.0          hinge      l2  0.00001  1.0  0.026429\n",
            "20  LinearSVC   10.0          hinge      l2  0.00001  1.0  0.026662\n",
            "22  LinearSVC   10.0  squared_hinge      l2  0.00100  1.0  0.027081\n",
            "19  LinearSVC   10.0          hinge      l2  0.00100  1.0  0.027442\n",
            "21  LinearSVC   10.0  squared_hinge      l2  0.10000  1.0  0.027641\n",
            "10  LinearSVC    1.0          hinge      l2  0.00100  1.0  0.028407\n"
          ]
        }
      ]
    },
    {
      "cell_type": "code",
      "source": [
        "# Create DataFrame for Logistic Regression results\n",
        "log_df = pd.DataFrame(log_results)\n",
        "\n",
        "# Sort by accuracy and training time\n",
        "log_df = log_df.sort_values(by=['acc', 'time'], ascending=[False, True])\n",
        "\n",
        "# Display top 10\n",
        "print(\"Top 10 LogisticRegression configurations by accuracy (with tie-breaking):\")\n",
        "print(log_df.head(10))"
      ],
      "metadata": {
        "id": "E7GQpPdqqldo",
        "outputId": "70094287-dc23-4ba8-d93d-5d3c440d08ff",
        "colab": {
          "base_uri": "https://localhost:8080/"
        }
      },
      "execution_count": 25,
      "outputs": [
        {
          "output_type": "stream",
          "name": "stdout",
          "text": [
            "Top 10 LogisticRegression configurations by accuracy (with tie-breaking):\n",
            "                 model       C loss penalty      tol  acc      time\n",
            "21  LogisticRegression  100.00    -      l1  0.10000  1.0  0.070486\n",
            "0   LogisticRegression    0.01    -      l2  0.10000  1.0  0.091666\n",
            "15  LogisticRegression   10.00    -      l1  0.10000  1.0  0.091724\n",
            "9   LogisticRegression    1.00    -      l1  0.10000  1.0  0.099455\n",
            "18  LogisticRegression  100.00    -      l2  0.10000  1.0  0.128133\n",
            "22  LogisticRegression  100.00    -      l1  0.00100  1.0  0.146090\n",
            "1   LogisticRegression    0.01    -      l2  0.00100  1.0  0.153881\n",
            "6   LogisticRegression    1.00    -      l2  0.10000  1.0  0.161742\n",
            "2   LogisticRegression    0.01    -      l2  0.00001  1.0  0.174414\n",
            "16  LogisticRegression   10.00    -      l1  0.00100  1.0  0.229278\n"
          ]
        }
      ]
    },
    {
      "cell_type": "code",
      "source": [],
      "metadata": {
        "id": "O1QTkfIlq1Zh"
      },
      "execution_count": null,
      "outputs": []
    }
  ]
}